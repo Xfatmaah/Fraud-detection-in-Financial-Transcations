{
 "cells": [
  {
   "cell_type": "code",
   "execution_count": 84,
   "metadata": {},
   "outputs": [],
   "source": [
    "import numpy as np\n",
    "import pandas as pd\n",
    "from keras.models import Sequential\n",
    "from keras.layers import Dense, LeakyReLU, BatchNormalization\n",
    "from keras.optimizers import Adam\n",
    "from sklearn.preprocessing import LabelEncoder, MinMaxScaler"
   ]
  },
  {
   "cell_type": "code",
   "execution_count": 101,
   "metadata": {},
   "outputs": [],
   "source": [
    "# Load your dataset\n",
    "df = pd.read_csv('Synthetic Financial Datasets For Fraud Detection.csv')\n",
    "\n",
    "# Select relevant columns for GAN generation\n",
    "columns = ['step','amount', 'type']\n",
    "\n",
    "# Encode 'type' column\n",
    "le = LabelEncoder()\n",
    "df['type'] = le.fit_transform(df['type'])\n",
    "\n",
    "# Normalize numerical features\n",
    "scaler = MinMaxScaler()\n",
    "df[columns] = scaler.fit_transform(df[columns])\n",
    "\n",
    "# Prepare data for training\n",
    "X_train = df[columns].values"
   ]
  },
  {
   "cell_type": "code",
   "execution_count": 102,
   "metadata": {},
   "outputs": [
    {
     "data": {
      "text/plain": [
       "array([[0.00000000e+00, 1.06437179e-04, 7.50000000e-01],\n",
       "       [0.00000000e+00, 2.01662565e-05, 7.50000000e-01],\n",
       "       [0.00000000e+00, 1.95790998e-06, 1.00000000e+00],\n",
       "       ...,\n",
       "       [1.00000000e+00, 6.82716643e-02, 2.50000000e-01],\n",
       "       [1.00000000e+00, 9.19463216e-03, 1.00000000e+00],\n",
       "       [1.00000000e+00, 9.19463216e-03, 2.50000000e-01]])"
      ]
     },
     "execution_count": 102,
     "metadata": {},
     "output_type": "execute_result"
    }
   ],
   "source": [
    "X_train"
   ]
  },
  {
   "cell_type": "code",
   "execution_count": 41,
   "metadata": {},
   "outputs": [],
   "source": [
    "import numpy as np\n",
    "import pandas as pd\n",
    "from sklearn.preprocessing import StandardScaler\n",
    "from sklearn.model_selection import train_test_split\n",
    "from tensorflow.keras.models import Model\n",
    "from tensorflow.keras.layers import Input, Dense\n",
    "import matplotlib.pyplot as plt"
   ]
  },
  {
   "cell_type": "code",
   "execution_count": null,
   "metadata": {},
   "outputs": [],
   "source": [
    "input_dim = X_train.shape[1]  \n",
    "latent_dim = 2"
   ]
  },
  {
   "cell_type": "code",
   "execution_count": 105,
   "metadata": {},
   "outputs": [
    {
     "name": "stdout",
     "output_type": "stream",
     "text": [
      "Epoch 1/10\n",
      "\u001b[1m198832/198832\u001b[0m \u001b[32m━━━━━━━━━━━━━━━━━━━━\u001b[0m\u001b[37m\u001b[0m \u001b[1m395s\u001b[0m 2ms/step - loss: 3.6162e-04\n",
      "Epoch 2/10\n",
      "\u001b[1m198832/198832\u001b[0m \u001b[32m━━━━━━━━━━━━━━━━━━━━\u001b[0m\u001b[37m\u001b[0m \u001b[1m405s\u001b[0m 2ms/step - loss: 2.4864e-06\n",
      "Epoch 3/10\n",
      "\u001b[1m198832/198832\u001b[0m \u001b[32m━━━━━━━━━━━━━━━━━━━━\u001b[0m\u001b[37m\u001b[0m \u001b[1m399s\u001b[0m 2ms/step - loss: 1.8240e-06\n",
      "Epoch 4/10\n",
      "\u001b[1m198832/198832\u001b[0m \u001b[32m━━━━━━━━━━━━━━━━━━━━\u001b[0m\u001b[37m\u001b[0m \u001b[1m397s\u001b[0m 2ms/step - loss: 1.8429e-06\n",
      "Epoch 5/10\n",
      "\u001b[1m198832/198832\u001b[0m \u001b[32m━━━━━━━━━━━━━━━━━━━━\u001b[0m\u001b[37m\u001b[0m \u001b[1m403s\u001b[0m 2ms/step - loss: 1.6572e-06\n",
      "Epoch 6/10\n",
      "\u001b[1m198832/198832\u001b[0m \u001b[32m━━━━━━━━━━━━━━━━━━━━\u001b[0m\u001b[37m\u001b[0m \u001b[1m397s\u001b[0m 2ms/step - loss: 1.5139e-06\n",
      "Epoch 7/10\n",
      "\u001b[1m198832/198832\u001b[0m \u001b[32m━━━━━━━━━━━━━━━━━━━━\u001b[0m\u001b[37m\u001b[0m \u001b[1m401s\u001b[0m 2ms/step - loss: 1.5909e-06\n",
      "Epoch 8/10\n",
      "\u001b[1m198832/198832\u001b[0m \u001b[32m━━━━━━━━━━━━━━━━━━━━\u001b[0m\u001b[37m\u001b[0m \u001b[1m408s\u001b[0m 2ms/step - loss: 1.4887e-06\n",
      "Epoch 9/10\n",
      "\u001b[1m198832/198832\u001b[0m \u001b[32m━━━━━━━━━━━━━━━━━━━━\u001b[0m\u001b[37m\u001b[0m \u001b[1m393s\u001b[0m 2ms/step - loss: 1.6276e-06\n",
      "Epoch 10/10\n",
      "\u001b[1m198832/198832\u001b[0m \u001b[32m━━━━━━━━━━━━━━━━━━━━\u001b[0m\u001b[37m\u001b[0m \u001b[1m417s\u001b[0m 2ms/step - loss: 1.6240e-06\n"
     ]
    }
   ],
   "source": [
    "import tensorflow as tf\n",
    "from tensorflow.keras import layers, Model\n",
    "\n",
    "# Encoder\n",
    "input_data = layers.Input(shape=(input_dim,))\n",
    "encoded = layers.Dense(128, activation='relu')(input_data)\n",
    "z_mean = layers.Dense(latent_dim)(encoded)\n",
    "z_log_var = layers.Dense(latent_dim)(encoded)\n",
    "\n",
    "# Reparameterization trick\n",
    "def sampling(args):\n",
    "    z_mean, z_log_var = args\n",
    "    epsilon = tf.random.normal(shape=(tf.shape(z_mean)[0], latent_dim))\n",
    "    return z_mean + tf.exp(0.5 * z_log_var) * epsilon\n",
    "\n",
    "z = layers.Lambda(sampling, output_shape=(latent_dim,))([z_mean, z_log_var])\n",
    "\n",
    "# Decoder\n",
    "decoder_input = layers.Input(shape=(latent_dim,))\n",
    "decoded = layers.Dense(128, activation='relu')(decoder_input)\n",
    "output_data = layers.Dense(input_dim, activation='sigmoid')(decoded)\n",
    "\n",
    "# Define VAE model\n",
    "encoder = Model(input_data, z)\n",
    "decoder = Model(decoder_input, output_data)\n",
    "vae_output = decoder(encoder(input_data))\n",
    "\n",
    "vae = Model(input_data, vae_output)\n",
    "vae.compile(optimizer='adam', loss='mse')\n",
    "\n",
    "# Train VAE\n",
    "history = vae.fit(X_train, X_train, epochs=10, batch_size=32)"
   ]
  },
  {
   "cell_type": "code",
   "execution_count": 106,
   "metadata": {},
   "outputs": [
    {
     "name": "stdout",
     "output_type": "stream",
     "text": [
      "WARNING:tensorflow:5 out of the last 209 calls to <function TensorFlowTrainer.make_predict_function.<locals>.one_step_on_data_distributed at 0x000001F2670982C0> triggered tf.function retracing. Tracing is expensive and the excessive number of tracings could be due to (1) creating @tf.function repeatedly in a loop, (2) passing tensors with different shapes, (3) passing Python objects instead of tensors. For (1), please define your @tf.function outside of the loop. For (2), @tf.function has reduce_retracing=True option that can avoid unnecessary retracing. For (3), please refer to https://www.tensorflow.org/guide/function#controlling_retracing and https://www.tensorflow.org/api_docs/python/tf/function for  more details.\n",
      "\u001b[1m1/4\u001b[0m \u001b[32m━━━━━\u001b[0m\u001b[37m━━━━━━━━━━━━━━━\u001b[0m \u001b[1m0s\u001b[0m 115ms/stepWARNING:tensorflow:6 out of the last 212 calls to <function TensorFlowTrainer.make_predict_function.<locals>.one_step_on_data_distributed at 0x000001F2670982C0> triggered tf.function retracing. Tracing is expensive and the excessive number of tracings could be due to (1) creating @tf.function repeatedly in a loop, (2) passing tensors with different shapes, (3) passing Python objects instead of tensors. For (1), please define your @tf.function outside of the loop. For (2), @tf.function has reduce_retracing=True option that can avoid unnecessary retracing. For (3), please refer to https://www.tensorflow.org/guide/function#controlling_retracing and https://www.tensorflow.org/api_docs/python/tf/function for  more details.\n",
      "\u001b[1m4/4\u001b[0m \u001b[32m━━━━━━━━━━━━━━━━━━━━\u001b[0m\u001b[37m\u001b[0m \u001b[1m0s\u001b[0m 24ms/step\n"
     ]
    }
   ],
   "source": [
    "synthetic_data = decoder.predict(np.random.normal(size=(100, latent_dim)))"
   ]
  },
  {
   "cell_type": "code",
   "execution_count": 112,
   "metadata": {},
   "outputs": [
    {
     "data": {
      "image/png": "[encoded data removed]",
      "text/plain": [
       "<Figure size 640x480 with 1 Axes>"
      ]
     },
     "metadata": {},
     "output_type": "display_data"
    }
   ],
   "source": [
    "# Plot training loss\n",
    "plt.plot(history.history['loss'], label='Training Loss')\n",
    "plt.legend()\n",
    "plt.show()"
   ]
  },
  {
   "cell_type": "code",
   "execution_count": 116,
   "metadata": {},
   "outputs": [],
   "source": [
    "synthetic_data_original_scale = scaler.inverse_transform(synthetic_data)"
   ]
  },
  {
   "cell_type": "code",
   "execution_count": 118,
   "metadata": {},
   "outputs": [
    {
     "data": {
      "text/plain": [
       "array([[5.6948086e+01, 7.5426350e+05, 4.0000000e+00],\n",
       "       [1.5628256e+02, 5.8245269e+05, 3.9999983e+00],\n",
       "       [6.7832153e+02, 5.4445238e+04, 4.0000000e+00],\n",
       "       [1.6181320e+01, 6.6203421e-01, 4.0000000e+00],\n",
       "       [2.5923691e+02, 5.4507492e+04, 3.9327834e+00],\n",
       "       [2.7873337e+02, 8.4539968e+07, 3.9995129e+00],\n",
       "       [9.4481255e+01, 1.1765719e+05, 3.9999945e+00],\n",
       "       [1.6430962e+02, 1.6046113e+07, 3.9666898e+00],\n",
       "       [3.7165109e+02, 9.8778838e+03, 3.9920166e+00],\n",
       "       [1.0000638e+00, 8.4644651e+00, 4.0000000e+00],\n",
       "       [1.0000000e+00, 5.0635862e-01, 4.0000000e+00],\n",
       "       [4.3520588e+01, 1.5589254e+06, 4.0000000e+00],\n",
       "       [1.0000001e+00, 5.6426745e+06, 3.9999962e+00],\n",
       "       [1.0000000e+00, 8.8354160e+07, 4.0000000e+00],\n",
       "       [1.0000010e+00, 8.9296696e+07, 4.0000000e+00],\n",
       "       [1.9607869e+02, 1.2727719e+03, 4.0000000e+00],\n",
       "       [6.8406989e+02, 2.5124224e+07, 4.0000000e+00],\n",
       "       [1.0000001e+00, 8.6339070e+06, 4.0000000e+00],\n",
       "       [4.4425159e+02, 8.1545938e+04, 3.9999998e+00],\n",
       "       [1.9340740e+01, 6.9123376e+07, 4.0000000e+00],\n",
       "       [1.7911755e+02, 1.0836017e+07, 3.8479662e+00],\n",
       "       [4.2550549e+01, 6.7265130e+06, 4.0000000e+00],\n",
       "       [1.0000000e+00, 9.2128696e+07, 3.9851475e+00],\n",
       "       [1.4722726e+02, 4.6178516e+07, 3.9999995e+00],\n",
       "       [1.0000000e+00, 6.5539716e+07, 4.0000000e+00],\n",
       "       [2.2106209e+02, 1.3073085e+06, 7.7404279e-01],\n",
       "       [2.3966557e+02, 3.8768144e+07, 3.9999998e+00],\n",
       "       [7.4106311e+02, 7.4952805e+04, 4.0000000e+00],\n",
       "       [1.0000002e+00, 6.6597990e+06, 4.0000000e+00],\n",
       "       [3.4915844e+01, 4.4693732e+07, 4.0000000e+00],\n",
       "       [7.1345627e+01, 4.6652744e+07, 4.0000000e+00],\n",
       "       [1.5071404e+02, 1.1362141e+07, 3.9999981e+00],\n",
       "       [1.0000038e+00, 6.3433604e+07, 4.0000000e+00],\n",
       "       [2.3506334e+02, 7.3246848e+07, 3.9995613e+00],\n",
       "       [1.0000000e+00, 7.9567906e+04, 4.0000000e+00],\n",
       "       [5.4004507e+00, 3.7743512e+06, 3.1483924e+00],\n",
       "       [1.3829245e+02, 1.6386635e+04, 8.2784420e-01],\n",
       "       [2.3892848e+02, 4.6196700e+07, 4.0000000e+00],\n",
       "       [8.0498367e+01, 6.8190770e-05, 4.0000000e+00],\n",
       "       [4.8198495e+02, 9.1445184e+07, 4.0000000e+00],\n",
       "       [1.0074339e+00, 6.5711227e+04, 3.7863321e+00],\n",
       "       [1.5803328e+00, 7.0850850e+05, 3.9979410e+00],\n",
       "       [3.2977810e+01, 9.0676688e+07, 4.0000000e+00],\n",
       "       [1.0000000e+00, 2.2554654e+02, 3.3317547e-02],\n",
       "       [5.2453033e+01, 7.8793288e+05, 3.4959049e+00],\n",
       "       [1.0757757e+02, 3.1265364e+07, 3.9999993e+00],\n",
       "       [1.1288993e+00, 2.1933094e+01, 3.9354196e+00],\n",
       "       [1.2698317e+02, 1.5517009e+07, 4.0000000e+00],\n",
       "       [9.8485231e+00, 1.6858598e+07, 4.0000000e+00],\n",
       "       [3.7973447e+02, 5.7300296e+07, 3.9999998e+00],\n",
       "       [4.5817197e+02, 8.4323248e+07, 4.0000000e+00],\n",
       "       [1.0156043e+00, 6.8133015e+06, 3.9969876e+00],\n",
       "       [1.0313294e+00, 8.7211328e+07, 4.0000000e+00],\n",
       "       [1.0004580e+00, 1.2336862e+06, 4.0000000e+00],\n",
       "       [1.0021904e+00, 5.1522022e-01, 3.9999993e+00],\n",
       "       [1.9153691e+02, 4.7267116e+07, 2.8881254e+00],\n",
       "       [2.3636305e+02, 6.5805488e+07, 4.0000000e+00],\n",
       "       [1.0000882e+00, 8.8485584e+07, 4.0000000e+00],\n",
       "       [4.0860321e+02, 8.7474184e+07, 4.0000000e+00],\n",
       "       [1.3343822e+02, 8.4474156e+04, 3.9994636e+00],\n",
       "       [1.1338614e+00, 6.7685144e+07, 4.0000000e+00],\n",
       "       [8.1600838e+01, 4.5611880e+03, 3.9999249e+00],\n",
       "       [4.9836092e+00, 9.2223824e+07, 4.0000000e+00],\n",
       "       [1.2318384e+02, 6.6110804e+07, 4.0000000e+00],\n",
       "       [4.7211707e+02, 3.7092064e-02, 4.0000000e+00],\n",
       "       [1.0001521e+00, 8.3702408e+07, 4.0000000e+00],\n",
       "       [1.4404036e+01, 1.0501210e+05, 3.9907606e+00],\n",
       "       [3.6117535e+01, 7.5957032e+07, 3.9998193e+00],\n",
       "       [1.7584128e+02, 5.2915392e+07, 3.9994383e+00],\n",
       "       [2.3938292e+02, 1.6924126e+02, 3.9367158e+00],\n",
       "       [4.6335129e+02, 9.8131221e+03, 3.9999986e+00],\n",
       "       [1.2762282e+00, 2.1746511e+05, 4.0000000e+00],\n",
       "       [2.2737926e+02, 4.2178116e+07, 3.9999850e+00],\n",
       "       [1.0000000e+00, 8.9951992e+07, 4.0000000e+00],\n",
       "       [1.0000000e+00, 3.0339736e+04, 4.0000000e+00],\n",
       "       [4.7661835e+01, 1.4700206e+02, 3.5771179e+00],\n",
       "       [1.0000024e+00, 8.6385408e+07, 4.0000000e+00],\n",
       "       [3.3859112e+01, 1.5947225e+06, 4.0000000e+00],\n",
       "       [2.2723099e+02, 2.4244310e+01, 1.3857380e+00],\n",
       "       [5.7698700e+02, 7.9484728e+07, 3.9167931e+00],\n",
       "       [1.0000197e+00, 4.1041172e+05, 4.0000000e+00],\n",
       "       [2.1594054e+02, 7.0153112e+07, 3.8538067e+00],\n",
       "       [2.8749463e+02, 6.9888872e+03, 4.0000000e+00],\n",
       "       [1.4070160e+02, 7.4064704e+07, 3.9999976e+00],\n",
       "       [1.3369234e+01, 5.6642773e+04, 8.8835191e-03],\n",
       "       [1.0127326e+00, 9.2229040e+07, 2.3717190e-01],\n",
       "       [1.0000008e+00, 7.3118019e-04, 6.4341247e-02],\n",
       "       [1.0000000e+00, 6.4374652e+07, 4.0000000e+00],\n",
       "       [9.9019691e+01, 3.0269478e+07, 3.6517191e+00],\n",
       "       [1.0000000e+00, 3.1552971e+04, 2.9475050e+00],\n",
       "       [3.6092297e+02, 6.2288312e+07, 4.0000000e+00],\n",
       "       [3.3127576e+02, 3.9304508e+07, 3.9263339e+00],\n",
       "       [1.6784834e+02, 6.0726504e+07, 4.0000000e+00],\n",
       "       [1.0012590e+00, 8.4635856e+07, 4.0000000e+00],\n",
       "       [2.0068494e+02, 6.4984996e+07, 3.9830143e+00],\n",
       "       [3.4784445e+02, 3.9287928e+07, 4.0000000e+00],\n",
       "       [1.9193533e+02, 2.8457096e+07, 1.5337117e+00],\n",
       "       [1.7341722e+02, 6.5486464e+07, 4.0000000e+00],\n",
       "       [2.7049640e+02, 2.4060564e+07, 4.0000000e+00],\n",
       "       [2.9546223e+01, 6.1573168e+07, 3.9734859e+00]], dtype=float32)"
      ]
     },
     "execution_count": 118,
     "metadata": {},
     "output_type": "execute_result"
    }
   ],
   "source": [
    "synthetic_data_original_scale"
   ]
  },
  {
   "cell_type": "code",
   "execution_count": 132,
   "metadata": {},
   "outputs": [],
   "source": [
    "synthetic_data_original_scale[:, 0] = synthetic_data_original_scale[:, 0].astype(int)  \n",
    "synthetic_data_original_scale[:, 2] = synthetic_data_original_scale[:, 2].astype(int)  "
   ]
  },
  {
   "cell_type": "code",
   "execution_count": 134,
   "metadata": {},
   "outputs": [
    {
     "name": "stdout",
     "output_type": "stream",
     "text": [
      "[[5.6000000e+01 7.5426350e+05 4.0000000e+00]\n",
      " [1.5600000e+02 5.8245269e+05 3.0000000e+00]\n",
      " [6.7800000e+02 5.4445238e+04 4.0000000e+00]\n",
      " [1.6000000e+01 6.6203421e-01 4.0000000e+00]\n",
      " [2.5900000e+02 5.4507492e+04 3.0000000e+00]]\n"
     ]
    }
   ],
   "source": [
    "print(synthetic_data_original_scale[0:5])"
   ]
  },
  {
   "cell_type": "code",
   "execution_count": null,
   "metadata": {},
   "outputs": [],
   "source": []
  }
 ],
 "metadata": {
  "colab": {
   "provenance": []
  },
  "kernelspec": {
   "display_name": "Python 3 (ipykernel)",
   "language": "python",
   "name": "python3"
  },
  "language_info": {
   "codemirror_mode": {
    "name": "ipython",
    "version": 3
   },
   "file_extension": ".py",
   "mimetype": "text/x-python",
   "name": "python",
   "nbconvert_exporter": "python",
   "pygments_lexer": "ipython3",
   "version": "3.11.7"
  }
 },
 "nbformat": 4,
 "nbformat_minor": 4
}
