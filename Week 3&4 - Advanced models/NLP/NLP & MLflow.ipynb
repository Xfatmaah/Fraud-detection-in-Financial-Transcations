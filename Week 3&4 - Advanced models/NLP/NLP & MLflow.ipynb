{
 "cells": [
  {
   "cell_type": "code",
   "execution_count": 1,
   "metadata": {
    "id": "A6kcXNH2LsWS"
   },
   "outputs": [],
   "source": [
    "import pandas as pd\n",
    "import numpy as np\n",
    "from sklearn.preprocessing import LabelEncoder, MinMaxScaler\n",
    "from sklearn.model_selection import train_test_split\n",
    "from sklearn.metrics import accuracy_score, classification_report\n",
    "from imblearn.over_sampling import SMOTE\n",
    "from keras.layers import Flatten, GlobalMaxPooling1D, Embedding, Conv1D, LSTM\n",
    "from sklearn.model_selection import train_test_split\n",
    "from keras_preprocessing.sequence import pad_sequences"
   ]
  },
  {
   "cell_type": "code",
   "execution_count": 2,
   "metadata": {
    "colab": {
     "base_uri": "https://localhost:8080/",
     "height": 747
    },
    "id": "D5_17qoYMI8m",
    "outputId": "2be0b249-ced3-4da1-ebd2-f173ff01649e"
   },
   "outputs": [
    {
     "data": {
      "text/html": [
       "<div>\n",
       "<style scoped>\n",
       "    .dataframe tbody tr th:only-of-type {\n",
       "        vertical-align: middle;\n",
       "    }\n",
       "\n",
       "    .dataframe tbody tr th {\n",
       "        vertical-align: top;\n",
       "    }\n",
       "\n",
       "    .dataframe thead th {\n",
       "        text-align: right;\n",
       "    }\n",
       "</style>\n",
       "<table border=\"1\" class=\"dataframe\">\n",
       "  <thead>\n",
       "    <tr style=\"text-align: right;\">\n",
       "      <th></th>\n",
       "      <th>actions_str</th>\n",
       "      <th>actions</th>\n",
       "      <th>execution_time</th>\n",
       "      <th>Amount</th>\n",
       "      <th>type</th>\n",
       "      <th>is_fraud</th>\n",
       "    </tr>\n",
       "  </thead>\n",
       "  <tbody>\n",
       "    <tr>\n",
       "      <th>0</th>\n",
       "      <td>/PROFILE/GETCUSTOMERRESPONSE /TAXFREE/GETTAXGO...</td>\n",
       "      <td>[22, 27, 24, 1, 1268, 1269, 1267, 22, 29, 1, 2...</td>\n",
       "      <td>203.0</td>\n",
       "      <td>13.0</td>\n",
       "      <td>CASH_OUT</td>\n",
       "      <td>0.0</td>\n",
       "    </tr>\n",
       "    <tr>\n",
       "      <th>1</th>\n",
       "      <td>/PROFILE/GETCUSTOMERRESPONSE /CAMPAIGN/GETBALA...</td>\n",
       "      <td>[22, 24, 27, 1, 1268, 1269, 1267, 2, 23, 6, 25...</td>\n",
       "      <td>359.0</td>\n",
       "      <td>310.0</td>\n",
       "      <td>PAYMENT</td>\n",
       "      <td>0.0</td>\n",
       "    </tr>\n",
       "    <tr>\n",
       "      <th>2</th>\n",
       "      <td>/PROFILE/GETCUSTOMERRESPONSE /PROFILE/USERPROF...</td>\n",
       "      <td>[22, 1, 29, 22, 26, 2, 23, 25, 6, 28, 14, 7, 6...</td>\n",
       "      <td>250.0</td>\n",
       "      <td>350.0</td>\n",
       "      <td>CASH_OUT</td>\n",
       "      <td>0.0</td>\n",
       "    </tr>\n",
       "    <tr>\n",
       "      <th>3</th>\n",
       "      <td>/PROFILE/GETCUSTOMERRESPONSE /CAMPAIGN/GETBALA...</td>\n",
       "      <td>[22, 24, 27, 72, 1269, 1268, 1267, 4, 70, 46, ...</td>\n",
       "      <td>203.0</td>\n",
       "      <td>350.0</td>\n",
       "      <td>CASH_OUT</td>\n",
       "      <td>0.0</td>\n",
       "    </tr>\n",
       "    <tr>\n",
       "      <th>4</th>\n",
       "      <td>/PROFILE/GETCUSTOMERRESPONSE /CAMPAIGN/GETBALA...</td>\n",
       "      <td>[22, 24, 27, 23, 2, 1269, 1269, 6, 25, 7, 28, ...</td>\n",
       "      <td>593.0</td>\n",
       "      <td>2000.0</td>\n",
       "      <td>CASH_IN</td>\n",
       "      <td>1.0</td>\n",
       "    </tr>\n",
       "  </tbody>\n",
       "</table>\n",
       "</div>"
      ],
      "text/plain": [
       "                                         actions_str  \\\n",
       "0  /PROFILE/GETCUSTOMERRESPONSE /TAXFREE/GETTAXGO...   \n",
       "1  /PROFILE/GETCUSTOMERRESPONSE /CAMPAIGN/GETBALA...   \n",
       "2  /PROFILE/GETCUSTOMERRESPONSE /PROFILE/USERPROF...   \n",
       "3  /PROFILE/GETCUSTOMERRESPONSE /CAMPAIGN/GETBALA...   \n",
       "4  /PROFILE/GETCUSTOMERRESPONSE /CAMPAIGN/GETBALA...   \n",
       "\n",
       "                                             actions  execution_time  Amount  \\\n",
       "0  [22, 27, 24, 1, 1268, 1269, 1267, 22, 29, 1, 2...           203.0    13.0   \n",
       "1  [22, 24, 27, 1, 1268, 1269, 1267, 2, 23, 6, 25...           359.0   310.0   \n",
       "2  [22, 1, 29, 22, 26, 2, 23, 25, 6, 28, 14, 7, 6...           250.0   350.0   \n",
       "3  [22, 24, 27, 72, 1269, 1268, 1267, 4, 70, 46, ...           203.0   350.0   \n",
       "4  [22, 24, 27, 23, 2, 1269, 1269, 6, 25, 7, 28, ...           593.0  2000.0   \n",
       "\n",
       "       type  is_fraud  \n",
       "0  CASH_OUT       0.0  \n",
       "1   PAYMENT       0.0  \n",
       "2  CASH_OUT       0.0  \n",
       "3  CASH_OUT       0.0  \n",
       "4   CASH_IN       1.0  "
      ]
     },
     "execution_count": 2,
     "metadata": {},
     "output_type": "execute_result"
    }
   ],
   "source": [
    "df = pd.read_csv('FraudNLP_dataset.csv')\n",
    "df.head()"
   ]
  },
  {
   "cell_type": "code",
   "execution_count": 3,
   "metadata": {
    "colab": {
     "base_uri": "https://localhost:8080/",
     "height": 206
    },
    "id": "pgv7JvZGMoz2",
    "outputId": "0a2169ef-f8dc-4a38-d7d0-d11e901da857"
   },
   "outputs": [
    {
     "name": "stderr",
     "output_type": "stream",
     "text": [
      "C:\\Users\\HP EliteBook\\AppData\\Local\\Temp\\ipykernel_2968\\2756502279.py:10: FutureWarning: Downcasting behavior in `replace` is deprecated and will be removed in a future version. To retain the old behavior, explicitly call `result.infer_objects(copy=False)`. To opt-in to the future behavior, set `pd.set_option('future.no_silent_downcasting', True)`\n",
      "  df['type'] = df['type'].replace(type_mapping)\n"
     ]
    },
    {
     "data": {
      "text/html": [
       "<div>\n",
       "<style scoped>\n",
       "    .dataframe tbody tr th:only-of-type {\n",
       "        vertical-align: middle;\n",
       "    }\n",
       "\n",
       "    .dataframe tbody tr th {\n",
       "        vertical-align: top;\n",
       "    }\n",
       "\n",
       "    .dataframe thead th {\n",
       "        text-align: right;\n",
       "    }\n",
       "</style>\n",
       "<table border=\"1\" class=\"dataframe\">\n",
       "  <thead>\n",
       "    <tr style=\"text-align: right;\">\n",
       "      <th></th>\n",
       "      <th>actions_str</th>\n",
       "      <th>actions</th>\n",
       "      <th>execution_time</th>\n",
       "      <th>Amount</th>\n",
       "      <th>type</th>\n",
       "      <th>is_fraud</th>\n",
       "    </tr>\n",
       "  </thead>\n",
       "  <tbody>\n",
       "    <tr>\n",
       "      <th>0</th>\n",
       "      <td>/PROFILE/GETCUSTOMERRESPONSE /TAXFREE/GETTAXGO...</td>\n",
       "      <td>[22, 27, 24, 1, 1268, 1269, 1267, 22, 29, 1, 2...</td>\n",
       "      <td>203.0</td>\n",
       "      <td>13.0</td>\n",
       "      <td>1.0</td>\n",
       "      <td>0.0</td>\n",
       "    </tr>\n",
       "    <tr>\n",
       "      <th>1</th>\n",
       "      <td>/PROFILE/GETCUSTOMERRESPONSE /CAMPAIGN/GETBALA...</td>\n",
       "      <td>[22, 24, 27, 1, 1268, 1269, 1267, 2, 23, 6, 25...</td>\n",
       "      <td>359.0</td>\n",
       "      <td>310.0</td>\n",
       "      <td>3.0</td>\n",
       "      <td>0.0</td>\n",
       "    </tr>\n",
       "    <tr>\n",
       "      <th>2</th>\n",
       "      <td>/PROFILE/GETCUSTOMERRESPONSE /PROFILE/USERPROF...</td>\n",
       "      <td>[22, 1, 29, 22, 26, 2, 23, 25, 6, 28, 14, 7, 6...</td>\n",
       "      <td>250.0</td>\n",
       "      <td>350.0</td>\n",
       "      <td>1.0</td>\n",
       "      <td>0.0</td>\n",
       "    </tr>\n",
       "    <tr>\n",
       "      <th>3</th>\n",
       "      <td>/PROFILE/GETCUSTOMERRESPONSE /CAMPAIGN/GETBALA...</td>\n",
       "      <td>[22, 24, 27, 72, 1269, 1268, 1267, 4, 70, 46, ...</td>\n",
       "      <td>203.0</td>\n",
       "      <td>350.0</td>\n",
       "      <td>1.0</td>\n",
       "      <td>0.0</td>\n",
       "    </tr>\n",
       "    <tr>\n",
       "      <th>4</th>\n",
       "      <td>/PROFILE/GETCUSTOMERRESPONSE /CAMPAIGN/GETBALA...</td>\n",
       "      <td>[22, 24, 27, 23, 2, 1269, 1269, 6, 25, 7, 28, ...</td>\n",
       "      <td>593.0</td>\n",
       "      <td>2000.0</td>\n",
       "      <td>2.0</td>\n",
       "      <td>1.0</td>\n",
       "    </tr>\n",
       "  </tbody>\n",
       "</table>\n",
       "</div>"
      ],
      "text/plain": [
       "                                         actions_str  \\\n",
       "0  /PROFILE/GETCUSTOMERRESPONSE /TAXFREE/GETTAXGO...   \n",
       "1  /PROFILE/GETCUSTOMERRESPONSE /CAMPAIGN/GETBALA...   \n",
       "2  /PROFILE/GETCUSTOMERRESPONSE /PROFILE/USERPROF...   \n",
       "3  /PROFILE/GETCUSTOMERRESPONSE /CAMPAIGN/GETBALA...   \n",
       "4  /PROFILE/GETCUSTOMERRESPONSE /CAMPAIGN/GETBALA...   \n",
       "\n",
       "                                             actions  execution_time  Amount  \\\n",
       "0  [22, 27, 24, 1, 1268, 1269, 1267, 22, 29, 1, 2...           203.0    13.0   \n",
       "1  [22, 24, 27, 1, 1268, 1269, 1267, 2, 23, 6, 25...           359.0   310.0   \n",
       "2  [22, 1, 29, 22, 26, 2, 23, 25, 6, 28, 14, 7, 6...           250.0   350.0   \n",
       "3  [22, 24, 27, 72, 1269, 1268, 1267, 4, 70, 46, ...           203.0   350.0   \n",
       "4  [22, 24, 27, 23, 2, 1269, 1269, 6, 25, 7, 28, ...           593.0  2000.0   \n",
       "\n",
       "   type  is_fraud  \n",
       "0   1.0       0.0  \n",
       "1   3.0       0.0  \n",
       "2   1.0       0.0  \n",
       "3   1.0       0.0  \n",
       "4   2.0       1.0  "
      ]
     },
     "execution_count": 3,
     "metadata": {},
     "output_type": "execute_result"
    }
   ],
   "source": [
    "type_mapping = {\n",
    "    'CASH_IN': 2,\n",
    "    'CASH_OUT': 1,\n",
    "    'PAYMENT': 3,\n",
    "    'TRANSFER': 4,\n",
    "    'DEBIT': 0\n",
    "}\n",
    "\n",
    "# Replace the values in the 'type' column based on the mapping\n",
    "df['type'] = df['type'].replace(type_mapping)\n",
    "df.head()"
   ]
  },
  {
   "cell_type": "code",
   "execution_count": 4,
   "metadata": {},
   "outputs": [
    {
     "data": {
      "text/plain": [
       "(58973, 6)"
      ]
     },
     "execution_count": 4,
     "metadata": {},
     "output_type": "execute_result"
    }
   ],
   "source": [
    "df.dropna(inplace=True)\n",
    "df.shape"
   ]
  },
  {
   "cell_type": "code",
   "execution_count": 5,
   "metadata": {},
   "outputs": [
    {
     "name": "stderr",
     "output_type": "stream",
     "text": [
      "[nltk_data] Downloading package punkt to C:\\Users\\HP\n",
      "[nltk_data]     EliteBook\\AppData\\Roaming\\nltk_data...\n",
      "[nltk_data]   Package punkt is already up-to-date!\n"
     ]
    },
    {
     "name": "stdout",
     "output_type": "stream",
     "text": [
      "0     profile getcustomerresponse taxfree gettaxgoa...\n",
      "1     profile getcustomerresponse campaign getbalan...\n",
      "2     profile getcustomerresponse profile userprofi...\n",
      "3     profile getcustomerresponse campaign getbalan...\n",
      "4     profile getcustomerresponse campaign getbalan...\n",
      "Name: flattened_actions, dtype: object\n"
     ]
    }
   ],
   "source": [
    "import pandas as pd\n",
    "import numpy as np\n",
    "import re\n",
    "import nltk\n",
    "from nltk.tokenize import word_tokenize\n",
    "from keras.preprocessing.sequence import pad_sequences\n",
    "\n",
    "# Ensure you have the necessary NLTK resources\n",
    "nltk.download('punkt')\n",
    "\n",
    "# Load your DataFrame\n",
    "# df = pd.read_csv('your_data.csv')  # Load your data\n",
    "\n",
    "def preprocess_text(text):\n",
    "    segments = text.split('/')\n",
    "    \n",
    "    processed_segments = []\n",
    "    for segment in segments:\n",
    "        segment = segment.lower()  # Lowercase the text\n",
    "        segment = re.sub(r'[^a-z\\s]', '', segment)  # Remove non-alphabetical characters\n",
    "        segment = re.sub(r'\\s+', ' ', segment).strip()  # Remove extra spaces\n",
    "        tokens = word_tokenize(segment)  # Tokenize the segment\n",
    "        processed_segments.append(tokens)  # Append tokenized segments\n",
    "    \n",
    "    # Return the tokenized segments for each part split by '/'\n",
    "    return processed_segments\n",
    "\n",
    "# Apply the function to the DataFrame\n",
    "df['processed_actions'] = df['actions_str'].apply(lambda x: preprocess_text(x))\n",
    "\n",
    "# Flatten the processed actions to prepare for embedding\n",
    "df['flattened_actions'] = df['processed_actions'].apply(lambda x: ' '.join([' '.join(segment) for segment in x]))\n",
    "\n",
    "# Example: print the first 5 processed actions\n",
    "print(df['flattened_actions'].head())"
   ]
  },
  {
   "cell_type": "code",
   "execution_count": 14,
   "metadata": {},
   "outputs": [
    {
     "name": "stdout",
     "output_type": "stream",
     "text": [
      "0    [[-0.55668, 0.023938, -0.30828, -0.24503, 0.34...\n",
      "1    [[-0.55668, 0.023938, -0.30828, -0.24503, 0.34...\n",
      "2    [[-0.55668, 0.023938, -0.30828, -0.24503, 0.34...\n",
      "3    [[-0.55668, 0.023938, -0.30828, -0.24503, 0.34...\n",
      "4    [[-0.55668, 0.023938, -0.30828, -0.24503, 0.34...\n",
      "Name: action_sequences, dtype: object\n"
     ]
    }
   ],
   "source": [
    "# Create a vocabulary from the GloVe embeddings\n",
    "glove_file = open('glove.6B.100d.txt', encoding=\"utf8\")\n",
    "embeddings_dictionary = dict()\n",
    "for line in glove_file:\n",
    "    records = line.split()\n",
    "    word = records[0]\n",
    "    vector_dimensions = np.asarray(records[1:], dtype='float32')\n",
    "    embeddings_dictionary[word] = vector_dimensions\n",
    "glove_file.close()\n",
    "\n",
    "# Create a vocabulary length\n",
    "vocab_length = len(embeddings_dictionary)\n",
    "\n",
    "# Convert text into sequences of word indices\n",
    "def text_to_sequence(text, embeddings_dict):\n",
    "    return [embeddings_dict.get(word, np.zeros(100)) for word in text.split()] \n",
    "\n",
    "# Convert all processed action sequences into sequences of word indices\n",
    "df['action_sequences'] = df['flattened_actions'].apply(lambda x: text_to_sequence(x, embeddings_dictionary))\n",
    "\n",
    "# Example: print the first action sequences\n",
    "print(df['action_sequences'].head())\n"
   ]
  },
  {
   "cell_type": "code",
   "execution_count": 16,
   "metadata": {},
   "outputs": [
    {
     "data": {
      "text/html": [
       "<div>\n",
       "<style scoped>\n",
       "    .dataframe tbody tr th:only-of-type {\n",
       "        vertical-align: middle;\n",
       "    }\n",
       "\n",
       "    .dataframe tbody tr th {\n",
       "        vertical-align: top;\n",
       "    }\n",
       "\n",
       "    .dataframe thead th {\n",
       "        text-align: right;\n",
       "    }\n",
       "</style>\n",
       "<table border=\"1\" class=\"dataframe\">\n",
       "  <thead>\n",
       "    <tr style=\"text-align: right;\">\n",
       "      <th></th>\n",
       "      <th>actions_str</th>\n",
       "      <th>actions</th>\n",
       "      <th>execution_time</th>\n",
       "      <th>Amount</th>\n",
       "      <th>type</th>\n",
       "      <th>is_fraud</th>\n",
       "      <th>processed_actions</th>\n",
       "      <th>flattened_actions</th>\n",
       "      <th>action_sequences</th>\n",
       "    </tr>\n",
       "  </thead>\n",
       "  <tbody>\n",
       "    <tr>\n",
       "      <th>0</th>\n",
       "      <td>/PROFILE/GETCUSTOMERRESPONSE /TAXFREE/GETTAXGO...</td>\n",
       "      <td>[22, 27, 24, 1, 1268, 1269, 1267, 22, 29, 1, 2...</td>\n",
       "      <td>203.0</td>\n",
       "      <td>13.0</td>\n",
       "      <td>1.0</td>\n",
       "      <td>0.0</td>\n",
       "      <td>[[], [profile], [getcustomerresponse], [taxfre...</td>\n",
       "      <td>profile getcustomerresponse taxfree gettaxgoa...</td>\n",
       "      <td>[[-0.55668, 0.023938, -0.30828, -0.24503, 0.34...</td>\n",
       "    </tr>\n",
       "    <tr>\n",
       "      <th>1</th>\n",
       "      <td>/PROFILE/GETCUSTOMERRESPONSE /CAMPAIGN/GETBALA...</td>\n",
       "      <td>[22, 24, 27, 1, 1268, 1269, 1267, 2, 23, 6, 25...</td>\n",
       "      <td>359.0</td>\n",
       "      <td>310.0</td>\n",
       "      <td>3.0</td>\n",
       "      <td>0.0</td>\n",
       "      <td>[[], [profile], [getcustomerresponse], [campai...</td>\n",
       "      <td>profile getcustomerresponse campaign getbalan...</td>\n",
       "      <td>[[-0.55668, 0.023938, -0.30828, -0.24503, 0.34...</td>\n",
       "    </tr>\n",
       "    <tr>\n",
       "      <th>2</th>\n",
       "      <td>/PROFILE/GETCUSTOMERRESPONSE /PROFILE/USERPROF...</td>\n",
       "      <td>[22, 1, 29, 22, 26, 2, 23, 25, 6, 28, 14, 7, 6...</td>\n",
       "      <td>250.0</td>\n",
       "      <td>350.0</td>\n",
       "      <td>1.0</td>\n",
       "      <td>0.0</td>\n",
       "      <td>[[], [profile], [getcustomerresponse], [profil...</td>\n",
       "      <td>profile getcustomerresponse profile userprofi...</td>\n",
       "      <td>[[-0.55668, 0.023938, -0.30828, -0.24503, 0.34...</td>\n",
       "    </tr>\n",
       "    <tr>\n",
       "      <th>3</th>\n",
       "      <td>/PROFILE/GETCUSTOMERRESPONSE /CAMPAIGN/GETBALA...</td>\n",
       "      <td>[22, 24, 27, 72, 1269, 1268, 1267, 4, 70, 46, ...</td>\n",
       "      <td>203.0</td>\n",
       "      <td>350.0</td>\n",
       "      <td>1.0</td>\n",
       "      <td>0.0</td>\n",
       "      <td>[[], [profile], [getcustomerresponse], [campai...</td>\n",
       "      <td>profile getcustomerresponse campaign getbalan...</td>\n",
       "      <td>[[-0.55668, 0.023938, -0.30828, -0.24503, 0.34...</td>\n",
       "    </tr>\n",
       "    <tr>\n",
       "      <th>4</th>\n",
       "      <td>/PROFILE/GETCUSTOMERRESPONSE /CAMPAIGN/GETBALA...</td>\n",
       "      <td>[22, 24, 27, 23, 2, 1269, 1269, 6, 25, 7, 28, ...</td>\n",
       "      <td>593.0</td>\n",
       "      <td>2000.0</td>\n",
       "      <td>2.0</td>\n",
       "      <td>1.0</td>\n",
       "      <td>[[], [profile], [getcustomerresponse], [campai...</td>\n",
       "      <td>profile getcustomerresponse campaign getbalan...</td>\n",
       "      <td>[[-0.55668, 0.023938, -0.30828, -0.24503, 0.34...</td>\n",
       "    </tr>\n",
       "  </tbody>\n",
       "</table>\n",
       "</div>"
      ],
      "text/plain": [
       "                                         actions_str  \\\n",
       "0  /PROFILE/GETCUSTOMERRESPONSE /TAXFREE/GETTAXGO...   \n",
       "1  /PROFILE/GETCUSTOMERRESPONSE /CAMPAIGN/GETBALA...   \n",
       "2  /PROFILE/GETCUSTOMERRESPONSE /PROFILE/USERPROF...   \n",
       "3  /PROFILE/GETCUSTOMERRESPONSE /CAMPAIGN/GETBALA...   \n",
       "4  /PROFILE/GETCUSTOMERRESPONSE /CAMPAIGN/GETBALA...   \n",
       "\n",
       "                                             actions  execution_time  Amount  \\\n",
       "0  [22, 27, 24, 1, 1268, 1269, 1267, 22, 29, 1, 2...           203.0    13.0   \n",
       "1  [22, 24, 27, 1, 1268, 1269, 1267, 2, 23, 6, 25...           359.0   310.0   \n",
       "2  [22, 1, 29, 22, 26, 2, 23, 25, 6, 28, 14, 7, 6...           250.0   350.0   \n",
       "3  [22, 24, 27, 72, 1269, 1268, 1267, 4, 70, 46, ...           203.0   350.0   \n",
       "4  [22, 24, 27, 23, 2, 1269, 1269, 6, 25, 7, 28, ...           593.0  2000.0   \n",
       "\n",
       "   type  is_fraud                                  processed_actions  \\\n",
       "0   1.0       0.0  [[], [profile], [getcustomerresponse], [taxfre...   \n",
       "1   3.0       0.0  [[], [profile], [getcustomerresponse], [campai...   \n",
       "2   1.0       0.0  [[], [profile], [getcustomerresponse], [profil...   \n",
       "3   1.0       0.0  [[], [profile], [getcustomerresponse], [campai...   \n",
       "4   2.0       1.0  [[], [profile], [getcustomerresponse], [campai...   \n",
       "\n",
       "                                   flattened_actions  \\\n",
       "0   profile getcustomerresponse taxfree gettaxgoa...   \n",
       "1   profile getcustomerresponse campaign getbalan...   \n",
       "2   profile getcustomerresponse profile userprofi...   \n",
       "3   profile getcustomerresponse campaign getbalan...   \n",
       "4   profile getcustomerresponse campaign getbalan...   \n",
       "\n",
       "                                    action_sequences  \n",
       "0  [[-0.55668, 0.023938, -0.30828, -0.24503, 0.34...  \n",
       "1  [[-0.55668, 0.023938, -0.30828, -0.24503, 0.34...  \n",
       "2  [[-0.55668, 0.023938, -0.30828, -0.24503, 0.34...  \n",
       "3  [[-0.55668, 0.023938, -0.30828, -0.24503, 0.34...  \n",
       "4  [[-0.55668, 0.023938, -0.30828, -0.24503, 0.34...  "
      ]
     },
     "execution_count": 16,
     "metadata": {},
     "output_type": "execute_result"
    }
   ],
   "source": [
    "df.head()"
   ]
  },
  {
   "cell_type": "code",
   "execution_count": 18,
   "metadata": {},
   "outputs": [
    {
     "name": "stdout",
     "output_type": "stream",
     "text": [
      "Padded sequences shape: (58973, 50, 100)\n"
     ]
    }
   ],
   "source": [
    "# Pad the action sequences\n",
    "max_sequence_length = 50  # Define a max length based on your data\n",
    "padded_sequences = pad_sequences(df['action_sequences'].apply(lambda x: np.array(x)), maxlen=max_sequence_length, dtype='float32')\n",
    "\n",
    "# Add the padded sequences to the DataFrame or store them for model input\n",
    "df['padded_action_sequences'] = list(padded_sequences)\n",
    "\n",
    "# Example: print the shape of the padded sequences\n",
    "print(f\"Padded sequences shape: {padded_sequences.shape}\")\n"
   ]
  },
  {
   "cell_type": "code",
   "execution_count": 22,
   "metadata": {},
   "outputs": [
    {
     "name": "stdout",
     "output_type": "stream",
     "text": [
      "Flattened Action Sequences shape: (58973, 100)\n"
     ]
    }
   ],
   "source": [
    "# Average the action sequences across the sequence length\n",
    "X_action_sequences_flattened = np.array([np.mean(seq, axis=0) for seq in X_action_sequences])\n",
    "\n",
    "# Now, X_action_sequences_flattened should be 2D with shape (num_samples, embedding_dimension)\n",
    "print(f\"Flattened Action Sequences shape: {X_action_sequences_flattened.shape}\")\n"
   ]
  },
  {
   "cell_type": "code",
   "execution_count": 36,
   "metadata": {},
   "outputs": [
    {
     "name": "stdout",
     "output_type": "stream",
     "text": [
      "Feature shape: (58973, 103), Target shape: (58973,)\n"
     ]
    }
   ],
   "source": [
    "# Combine features into a single input array\n",
    "X = np.hstack((X_action_sequences_flattened, \n",
    "                X_execution_time.reshape(-1, 1), \n",
    "                X_amount.reshape(-1, 1), \n",
    "                X_type.reshape(-1, 1)))\n",
    "\n",
    "# Extract labels\n",
    "y = df['is_fraud'].values\n",
    "\n",
    "# Example: check the shape of X and y\n",
    "print(f\"Feature shape: {X.shape}, Target shape: {y.shape}\")\n"
   ]
  },
  {
   "cell_type": "code",
   "execution_count": 38,
   "metadata": {},
   "outputs": [
    {
     "name": "stdout",
     "output_type": "stream",
     "text": [
      "New training target distribution: [47097 47097]\n"
     ]
    }
   ],
   "source": [
    "from sklearn.model_selection import train_test_split\n",
    "from imblearn.over_sampling import SMOTE\n",
    "import numpy as np\n",
    "\n",
    "# Extract labels and convert to integer type\n",
    "y = df['is_fraud'].values.astype(int)\n",
    "\n",
    "# Split the data into training and testing sets\n",
    "X_train, X_test, y_train, y_test = train_test_split(X, y, test_size=0.2, random_state=42, stratify=y)\n",
    "\n",
    "# Apply SMOTE to the training set\n",
    "smote = SMOTE(random_state=42)\n",
    "X_train_resampled, y_train_resampled = smote.fit_resample(X_train, y_train)\n",
    "\n",
    "# Convert y_train_resampled to integer type\n",
    "y_train_resampled = y_train_resampled.astype(int)\n",
    "\n",
    "# Check the distribution of the classes after SMOTE\n",
    "print(f\"New training target distribution: {np.bincount(y_train_resampled)}\")\n"
   ]
  },
  {
   "cell_type": "code",
   "execution_count": 46,
   "metadata": {},
   "outputs": [
    {
     "name": "stdout",
     "output_type": "stream",
     "text": [
      "Feature shape for LSTM: (58973, 13, 1)\n"
     ]
    }
   ],
   "source": [
    "# Padded Action Sequences\n",
    "max_len = 10  # Adjust this based on your data\n",
    "X_action_sequences_padded = pad_sequences(X_action_sequences_flattened, maxlen=max_len)\n",
    "\n",
    "# Reshape other features to 3D\n",
    "X_execution_time = X_execution_time.reshape(-1, 1)  # Shape: (num_samples, 1)\n",
    "X_amount = X_amount.reshape(-1, 1)                    # Shape: (num_samples, 1)\n",
    "X_type = X_type.reshape(-1, 1)                        # Shape: (num_samples, 1)\n",
    "\n",
    "# Expand dimensions of other features to 3D\n",
    "X_execution_time = np.expand_dims(X_execution_time, axis=1)  # Shape: (num_samples, 1, 1)\n",
    "X_amount = np.expand_dims(X_amount, axis=1)                    # Shape: (num_samples, 1, 1)\n",
    "X_type = np.expand_dims(X_type, axis=1)                        # Shape: (num_samples, 1, 1)\n",
    "\n",
    "# Combine into a single 3D array\n",
    "X_combined = np.concatenate((\n",
    "    X_action_sequences_padded[..., np.newaxis],  # Shape: (num_samples, max_len, 1)\n",
    "    X_execution_time,                             # Shape: (num_samples, 1, 1)\n",
    "    X_amount,                                     # Shape: (num_samples, 1, 1)\n",
    "    X_type                                        # Shape: (num_samples, 1, 1)\n",
    "), axis=1)  # Concatenating along the time steps\n",
    "\n",
    "# Now X_combined should have the correct shape\n",
    "print(f\"Feature shape for LSTM: {X_combined.shape}\")"
   ]
  },
  {
   "cell_type": "code",
   "execution_count": 48,
   "metadata": {},
   "outputs": [
    {
     "name": "stdout",
     "output_type": "stream",
     "text": [
      "Training set shape: (47178, 13, 1), Validation set shape: (11795, 13, 1)\n"
     ]
    }
   ],
   "source": [
    "from sklearn.model_selection import train_test_split\n",
    "\n",
    "# Split the data into training and validation sets\n",
    "X_train, X_val, y_train, y_val = train_test_split(X_combined, y, test_size=0.2, random_state=42)\n",
    "\n",
    "# Check the shapes of the resulting sets\n",
    "print(f\"Training set shape: {X_train.shape}, Validation set shape: {X_val.shape}\")"
   ]
  },
  {
   "cell_type": "code",
   "execution_count": 50,
   "metadata": {},
   "outputs": [
    {
     "name": "stderr",
     "output_type": "stream",
     "text": [
      "C:\\Users\\HP EliteBook\\anaconda\\Lib\\site-packages\\keras\\src\\layers\\rnn\\rnn.py:204: UserWarning: Do not pass an `input_shape`/`input_dim` argument to a layer. When using Sequential models, prefer using an `Input(shape)` object as the first layer in the model instead.\n",
      "  super().__init__(**kwargs)\n"
     ]
    },
    {
     "data": {
      "text/html": [
       "<pre style=\"white-space:pre;overflow-x:auto;line-height:normal;font-family:Menlo,'DejaVu Sans Mono',consolas,'Courier New',monospace\"><span style=\"font-weight: bold\">Model: \"sequential_1\"</span>\n",
       "</pre>\n"
      ],
      "text/plain": [
       "\u001b[1mModel: \"sequential_1\"\u001b[0m\n"
      ]
     },
     "metadata": {},
     "output_type": "display_data"
    },
    {
     "data": {
      "text/html": [
       "<pre style=\"white-space:pre;overflow-x:auto;line-height:normal;font-family:Menlo,'DejaVu Sans Mono',consolas,'Courier New',monospace\">┏━━━━━━━━━━━━━━━━━━━━━━━━━━━━━━━━━━━━━━┳━━━━━━━━━━━━━━━━━━━━━━━━━━━━━┳━━━━━━━━━━━━━━━━━┓\n",
       "┃<span style=\"font-weight: bold\"> Layer (type)                         </span>┃<span style=\"font-weight: bold\"> Output Shape                </span>┃<span style=\"font-weight: bold\">         Param # </span>┃\n",
       "┡━━━━━━━━━━━━━━━━━━━━━━━━━━━━━━━━━━━━━━╇━━━━━━━━━━━━━━━━━━━━━━━━━━━━━╇━━━━━━━━━━━━━━━━━┩\n",
       "│ lstm (<span style=\"color: #0087ff; text-decoration-color: #0087ff\">LSTM</span>)                          │ (<span style=\"color: #00d7ff; text-decoration-color: #00d7ff\">None</span>, <span style=\"color: #00af00; text-decoration-color: #00af00\">13</span>, <span style=\"color: #00af00; text-decoration-color: #00af00\">128</span>)             │          <span style=\"color: #00af00; text-decoration-color: #00af00\">66,560</span> │\n",
       "├──────────────────────────────────────┼─────────────────────────────┼─────────────────┤\n",
       "│ dropout (<span style=\"color: #0087ff; text-decoration-color: #0087ff\">Dropout</span>)                    │ (<span style=\"color: #00d7ff; text-decoration-color: #00d7ff\">None</span>, <span style=\"color: #00af00; text-decoration-color: #00af00\">13</span>, <span style=\"color: #00af00; text-decoration-color: #00af00\">128</span>)             │               <span style=\"color: #00af00; text-decoration-color: #00af00\">0</span> │\n",
       "├──────────────────────────────────────┼─────────────────────────────┼─────────────────┤\n",
       "│ lstm_1 (<span style=\"color: #0087ff; text-decoration-color: #0087ff\">LSTM</span>)                        │ (<span style=\"color: #00d7ff; text-decoration-color: #00d7ff\">None</span>, <span style=\"color: #00af00; text-decoration-color: #00af00\">64</span>)                  │          <span style=\"color: #00af00; text-decoration-color: #00af00\">49,408</span> │\n",
       "├──────────────────────────────────────┼─────────────────────────────┼─────────────────┤\n",
       "│ dropout_1 (<span style=\"color: #0087ff; text-decoration-color: #0087ff\">Dropout</span>)                  │ (<span style=\"color: #00d7ff; text-decoration-color: #00d7ff\">None</span>, <span style=\"color: #00af00; text-decoration-color: #00af00\">64</span>)                  │               <span style=\"color: #00af00; text-decoration-color: #00af00\">0</span> │\n",
       "├──────────────────────────────────────┼─────────────────────────────┼─────────────────┤\n",
       "│ dense (<span style=\"color: #0087ff; text-decoration-color: #0087ff\">Dense</span>)                        │ (<span style=\"color: #00d7ff; text-decoration-color: #00d7ff\">None</span>, <span style=\"color: #00af00; text-decoration-color: #00af00\">1</span>)                   │              <span style=\"color: #00af00; text-decoration-color: #00af00\">65</span> │\n",
       "└──────────────────────────────────────┴─────────────────────────────┴─────────────────┘\n",
       "</pre>\n"
      ],
      "text/plain": [
       "┏━━━━━━━━━━━━━━━━━━━━━━━━━━━━━━━━━━━━━━┳━━━━━━━━━━━━━━━━━━━━━━━━━━━━━┳━━━━━━━━━━━━━━━━━┓\n",
       "┃\u001b[1m \u001b[0m\u001b[1mLayer (type)                        \u001b[0m\u001b[1m \u001b[0m┃\u001b[1m \u001b[0m\u001b[1mOutput Shape               \u001b[0m\u001b[1m \u001b[0m┃\u001b[1m \u001b[0m\u001b[1m        Param #\u001b[0m\u001b[1m \u001b[0m┃\n",
       "┡━━━━━━━━━━━━━━━━━━━━━━━━━━━━━━━━━━━━━━╇━━━━━━━━━━━━━━━━━━━━━━━━━━━━━╇━━━━━━━━━━━━━━━━━┩\n",
       "│ lstm (\u001b[38;5;33mLSTM\u001b[0m)                          │ (\u001b[38;5;45mNone\u001b[0m, \u001b[38;5;34m13\u001b[0m, \u001b[38;5;34m128\u001b[0m)             │          \u001b[38;5;34m66,560\u001b[0m │\n",
       "├──────────────────────────────────────┼─────────────────────────────┼─────────────────┤\n",
       "│ dropout (\u001b[38;5;33mDropout\u001b[0m)                    │ (\u001b[38;5;45mNone\u001b[0m, \u001b[38;5;34m13\u001b[0m, \u001b[38;5;34m128\u001b[0m)             │               \u001b[38;5;34m0\u001b[0m │\n",
       "├──────────────────────────────────────┼─────────────────────────────┼─────────────────┤\n",
       "│ lstm_1 (\u001b[38;5;33mLSTM\u001b[0m)                        │ (\u001b[38;5;45mNone\u001b[0m, \u001b[38;5;34m64\u001b[0m)                  │          \u001b[38;5;34m49,408\u001b[0m │\n",
       "├──────────────────────────────────────┼─────────────────────────────┼─────────────────┤\n",
       "│ dropout_1 (\u001b[38;5;33mDropout\u001b[0m)                  │ (\u001b[38;5;45mNone\u001b[0m, \u001b[38;5;34m64\u001b[0m)                  │               \u001b[38;5;34m0\u001b[0m │\n",
       "├──────────────────────────────────────┼─────────────────────────────┼─────────────────┤\n",
       "│ dense (\u001b[38;5;33mDense\u001b[0m)                        │ (\u001b[38;5;45mNone\u001b[0m, \u001b[38;5;34m1\u001b[0m)                   │              \u001b[38;5;34m65\u001b[0m │\n",
       "└──────────────────────────────────────┴─────────────────────────────┴─────────────────┘\n"
      ]
     },
     "metadata": {},
     "output_type": "display_data"
    },
    {
     "data": {
      "text/html": [
       "<pre style=\"white-space:pre;overflow-x:auto;line-height:normal;font-family:Menlo,'DejaVu Sans Mono',consolas,'Courier New',monospace\"><span style=\"font-weight: bold\"> Total params: </span><span style=\"color: #00af00; text-decoration-color: #00af00\">116,033</span> (453.25 KB)\n",
       "</pre>\n"
      ],
      "text/plain": [
       "\u001b[1m Total params: \u001b[0m\u001b[38;5;34m116,033\u001b[0m (453.25 KB)\n"
      ]
     },
     "metadata": {},
     "output_type": "display_data"
    },
    {
     "data": {
      "text/html": [
       "<pre style=\"white-space:pre;overflow-x:auto;line-height:normal;font-family:Menlo,'DejaVu Sans Mono',consolas,'Courier New',monospace\"><span style=\"font-weight: bold\"> Trainable params: </span><span style=\"color: #00af00; text-decoration-color: #00af00\">116,033</span> (453.25 KB)\n",
       "</pre>\n"
      ],
      "text/plain": [
       "\u001b[1m Trainable params: \u001b[0m\u001b[38;5;34m116,033\u001b[0m (453.25 KB)\n"
      ]
     },
     "metadata": {},
     "output_type": "display_data"
    },
    {
     "data": {
      "text/html": [
       "<pre style=\"white-space:pre;overflow-x:auto;line-height:normal;font-family:Menlo,'DejaVu Sans Mono',consolas,'Courier New',monospace\"><span style=\"font-weight: bold\"> Non-trainable params: </span><span style=\"color: #00af00; text-decoration-color: #00af00\">0</span> (0.00 B)\n",
       "</pre>\n"
      ],
      "text/plain": [
       "\u001b[1m Non-trainable params: \u001b[0m\u001b[38;5;34m0\u001b[0m (0.00 B)\n"
      ]
     },
     "metadata": {},
     "output_type": "display_data"
    }
   ],
   "source": [
    "from keras.models import Sequential\n",
    "from keras.layers import LSTM, Dense, Dropout\n",
    "\n",
    "# Define the LSTM model\n",
    "model = Sequential()\n",
    "model.add(LSTM(128, input_shape=(X_train.shape[1], X_train.shape[2]), return_sequences=True))\n",
    "model.add(Dropout(0.2))\n",
    "model.add(LSTM(64, return_sequences=False))\n",
    "model.add(Dropout(0.2))\n",
    "model.add(Dense(1, activation='sigmoid'))  # Use 'sigmoid' for binary classification\n",
    "\n",
    "# Compile the model\n",
    "model.compile(optimizer='adam', loss='binary_crossentropy', metrics=['accuracy'])\n",
    "\n",
    "# Print model summary\n",
    "model.summary()"
   ]
  },
  {
   "cell_type": "code",
   "execution_count": 52,
   "metadata": {},
   "outputs": [
    {
     "name": "stdout",
     "output_type": "stream",
     "text": [
      "Epoch 1/10\n",
      "\u001b[1m738/738\u001b[0m \u001b[32m━━━━━━━━━━━━━━━━━━━━\u001b[0m\u001b[37m\u001b[0m \u001b[1m30s\u001b[0m 28ms/step - accuracy: 0.9923 - loss: 0.0382 - val_accuracy: 0.9988 - val_loss: 0.0092\n",
      "Epoch 2/10\n",
      "\u001b[1m738/738\u001b[0m \u001b[32m━━━━━━━━━━━━━━━━━━━━\u001b[0m\u001b[37m\u001b[0m \u001b[1m19s\u001b[0m 25ms/step - accuracy: 0.9979 - loss: 0.0139 - val_accuracy: 0.9988 - val_loss: 0.0078\n",
      "Epoch 3/10\n",
      "\u001b[1m738/738\u001b[0m \u001b[32m━━━━━━━━━━━━━━━━━━━━\u001b[0m\u001b[37m\u001b[0m \u001b[1m18s\u001b[0m 25ms/step - accuracy: 0.9981 - loss: 0.0123 - val_accuracy: 0.9988 - val_loss: 0.0075\n",
      "Epoch 4/10\n",
      "\u001b[1m738/738\u001b[0m \u001b[32m━━━━━━━━━━━━━━━━━━━━\u001b[0m\u001b[37m\u001b[0m \u001b[1m19s\u001b[0m 25ms/step - accuracy: 0.9983 - loss: 0.0098 - val_accuracy: 0.9988 - val_loss: 0.0068\n",
      "Epoch 5/10\n",
      "\u001b[1m738/738\u001b[0m \u001b[32m━━━━━━━━━━━━━━━━━━━━\u001b[0m\u001b[37m\u001b[0m \u001b[1m18s\u001b[0m 24ms/step - accuracy: 0.9980 - loss: 0.0102 - val_accuracy: 0.9988 - val_loss: 0.0094\n",
      "Epoch 6/10\n",
      "\u001b[1m738/738\u001b[0m \u001b[32m━━━━━━━━━━━━━━━━━━━━\u001b[0m\u001b[37m\u001b[0m \u001b[1m20s\u001b[0m 27ms/step - accuracy: 0.9977 - loss: 0.0138 - val_accuracy: 0.9988 - val_loss: 0.0078\n",
      "Epoch 7/10\n",
      "\u001b[1m738/738\u001b[0m \u001b[32m━━━━━━━━━━━━━━━━━━━━\u001b[0m\u001b[37m\u001b[0m \u001b[1m19s\u001b[0m 26ms/step - accuracy: 0.9982 - loss: 0.0111 - val_accuracy: 0.9988 - val_loss: 0.0077\n",
      "Epoch 8/10\n",
      "\u001b[1m738/738\u001b[0m \u001b[32m━━━━━━━━━━━━━━━━━━━━\u001b[0m\u001b[37m\u001b[0m \u001b[1m20s\u001b[0m 27ms/step - accuracy: 0.9978 - loss: 0.0140 - val_accuracy: 0.9988 - val_loss: 0.0063\n",
      "Epoch 9/10\n",
      "\u001b[1m738/738\u001b[0m \u001b[32m━━━━━━━━━━━━━━━━━━━━\u001b[0m\u001b[37m\u001b[0m \u001b[1m19s\u001b[0m 26ms/step - accuracy: 0.9984 - loss: 0.0103 - val_accuracy: 0.9988 - val_loss: 0.0074\n",
      "Epoch 10/10\n",
      "\u001b[1m738/738\u001b[0m \u001b[32m━━━━━━━━━━━━━━━━━━━━\u001b[0m\u001b[37m\u001b[0m \u001b[1m19s\u001b[0m 25ms/step - accuracy: 0.9981 - loss: 0.0113 - val_accuracy: 0.9988 - val_loss: 0.0076\n"
     ]
    }
   ],
   "source": [
    "# Train the model\n",
    "history = model.fit(X_train, y_train, validation_data=(X_val, y_val), epochs=10, batch_size=64)"
   ]
  },
  {
   "cell_type": "code",
   "execution_count": 53,
   "metadata": {},
   "outputs": [
    {
     "name": "stdout",
     "output_type": "stream",
     "text": [
      "\u001b[1m369/369\u001b[0m \u001b[32m━━━━━━━━━━━━━━━━━━━━\u001b[0m\u001b[37m\u001b[0m \u001b[1m3s\u001b[0m 8ms/step - accuracy: 0.9990 - loss: 0.0067\n",
      "Validation Loss: 0.007625020574778318, Validation Accuracy: 0.9988130331039429\n"
     ]
    }
   ],
   "source": [
    "# Evaluate the model\n",
    "val_loss, val_accuracy = model.evaluate(X_val, y_val)\n",
    "print(f\"Validation Loss: {val_loss}, Validation Accuracy: {val_accuracy}\")"
   ]
  },
  {
   "cell_type": "code",
   "execution_count": 58,
   "metadata": {},
   "outputs": [
    {
     "data": {
      "image/png": "[encoded data removed]",
      "text/plain": [
       "<Figure size 640x480 with 1 Axes>"
      ]
     },
     "metadata": {},
     "output_type": "display_data"
    },
    {
     "data": {
      "image/png": "[encoded data removed]",
      "text/plain": [
       "<Figure size 640x480 with 1 Axes>"
      ]
     },
     "metadata": {},
     "output_type": "display_data"
    }
   ],
   "source": [
    "import matplotlib.pyplot as plt\n",
    "\n",
    "# Plot training & validation accuracy values\n",
    "plt.plot(history.history['accuracy'])\n",
    "plt.plot(history.history['val_accuracy'])\n",
    "plt.title('Model accuracy')\n",
    "plt.ylabel('Accuracy')\n",
    "plt.xlabel('Epoch')\n",
    "plt.legend(['Train', 'Val'], loc='upper left')\n",
    "plt.show()\n",
    "\n",
    "# Plot training & validation loss values\n",
    "plt.plot(history.history['loss'])\n",
    "plt.plot(history.history['val_loss'])\n",
    "plt.title('Model loss')\n",
    "plt.ylabel('Loss')\n",
    "plt.xlabel('Epoch')\n",
    "plt.legend(['Train', 'Val'], loc='upper left')\n",
    "plt.show()\n"
   ]
  },
  {
   "cell_type": "code",
   "execution_count": 151,
   "metadata": {},
   "outputs": [
    {
     "data": {
      "text/plain": [
       "actions_str                /P2P/LOYALTYUSERINFO /WEALTH/GETPORTFOLIOSLIST...\n",
       "actions                    [93, 52, 7, 10, 12, 13, 4, 56, 19, 52, 8, 7, 7...\n",
       "execution_time                                                         717.0\n",
       "Amount                                                                 160.0\n",
       "type                                                                     2.0\n",
       "is_fraud                                                                 0.0\n",
       "processed_actions          [[], [pp], [loyaltyuserinfo], [wealth], [getpo...\n",
       "flattened_actions           pp loyaltyuserinfo wealth getportfolioslist t...\n",
       "action_sequences           [[-0.42414, 0.043225, 0.38302, -0.56148, 0.385...\n",
       "padded_action_sequences    [[0.0, 0.0, 0.0, 0.0, 0.0, 0.0, 0.0, 0.0, 0.0,...\n",
       "Name: 60, dtype: object"
      ]
     },
     "execution_count": 151,
     "metadata": {},
     "output_type": "execute_result"
    }
   ],
   "source": [
    "data = df.iloc[60]\n",
    "data"
   ]
  },
  {
   "cell_type": "code",
   "execution_count": 153,
   "metadata": {},
   "outputs": [
    {
     "data": {
      "text/plain": [
       "actions_str       /P2P/LOYALTYUSERINFO /WEALTH/GETPORTFOLIOSLIST...\n",
       "execution_time                                                717.0\n",
       "Amount                                                        160.0\n",
       "type                                                            2.0\n",
       "Name: 60, dtype: object"
      ]
     },
     "execution_count": 153,
     "metadata": {},
     "output_type": "execute_result"
    }
   ],
   "source": [
    "data = data[['actions_str','execution_time','Amount','type']]\n",
    "data"
   ]
  },
  {
   "cell_type": "code",
   "execution_count": 155,
   "metadata": {},
   "outputs": [],
   "source": [
    "def preprocess_text(text):\n",
    "    segments = text.split('/')\n",
    "    processed_segments = []\n",
    "    for segment in segments:\n",
    "        segment = segment.lower()  # Lowercase the text\n",
    "        segment = re.sub(r'[^a-z\\s]', '', segment)  # Remove non-alphabetical characters\n",
    "        segment = re.sub(r'\\s+', ' ', segment).strip()  # Remove extra spaces\n",
    "        processed_segments.append(segment)  # Append processed segments\n",
    "    return ' '.join(processed_segments)  # Join back to a single string"
   ]
  },
  {
   "cell_type": "code",
   "execution_count": 157,
   "metadata": {},
   "outputs": [],
   "source": [
    "# Extract values from the DataFrame\n",
    "action_text = df['actions_str'].values[0]\n",
    "execution_time = df['execution_time'].values[0]\n",
    "amount = df['Amount'].values[0]\n",
    "action_type = df['type'].values[0]"
   ]
  },
  {
   "cell_type": "code",
   "execution_count": 159,
   "metadata": {},
   "outputs": [
    {
     "name": "stdout",
     "output_type": "stream",
     "text": [
      "\u001b[1m1/1\u001b[0m \u001b[32m━━━━━━━━━━━━━━━━━━━━\u001b[0m\u001b[37m\u001b[0m \u001b[1m0s\u001b[0m 164ms/step\n",
      "[[0.00697201]]\n"
     ]
    }
   ],
   "source": [
    "import numpy as np\n",
    "import re\n",
    "from keras.preprocessing.sequence import pad_sequences\n",
    "\n",
    "# Preprocess text function\n",
    "def preprocess_text(text):\n",
    "    segments = text.split('/')\n",
    "    processed_segments = []\n",
    "    for segment in segments:\n",
    "        segment = segment.lower()  # Lowercase the text\n",
    "        segment = re.sub(r'[^a-z\\s]', '', segment)  # Remove non-alphabetical characters\n",
    "        segment = re.sub(r'\\s+', ' ', segment).strip()  # Remove extra spaces\n",
    "        processed_segments.append(segment)  # Append processed segments\n",
    "    return ' '.join(processed_segments)  # Join back to a single string\n",
    "\n",
    "# Extract values from the DataFrame\n",
    "data = df.iloc[1]  # Get the row as a Series\n",
    "action_text = data['actions_str']  # Extract action text\n",
    "execution_time = data['execution_time']  # Extract execution time\n",
    "amount = data['Amount']  # Extract amount\n",
    "action_type = data['type']  # Extract action type\n",
    "\n",
    "# Preprocess the action text\n",
    "processed_action_text = preprocess_text(action_text)\n",
    "\n",
    "# Convert to sequence using the GloVe embeddings\n",
    "def text_to_sequence(text, embeddings_dict):\n",
    "    return [embeddings_dict.get(word, np.zeros(100)) for word in text.split()]  # Use zeros for unknown words\n",
    "\n",
    "# Create action sequence\n",
    "action_sequence = text_to_sequence(processed_action_text, embeddings_dictionary)\n",
    "\n",
    "# Pad the action sequence\n",
    "max_len = 10  # Adjust this based on your model's input requirements\n",
    "action_sequence_padded = pad_sequences([action_sequence], maxlen=max_len)\n",
    "\n",
    "# Reshape features to match the padded sequence dimensions\n",
    "features = np.array([[execution_time, amount, action_type]])\n",
    "\n",
    "# Reshape action_sequence_padded to ensure it has 2 dimensions\n",
    "action_sequence_reshaped = action_sequence_padded.reshape(action_sequence_padded.shape[0], -1)\n",
    "\n",
    "# Combine features into a single input array\n",
    "combined_input = np.concatenate((action_sequence_reshaped, features), axis=1)\n",
    "\n",
    "# Make prediction\n",
    "predicted_class = model.predict(combined_input)\n",
    "\n",
    "# Print the predicted class\n",
    "print(predicted_class)"
   ]
  },
  {
   "cell_type": "code",
   "execution_count": 148,
   "metadata": {},
   "outputs": [
    {
     "name": "stdout",
     "output_type": "stream",
     "text": [
      "\u001b[1m1/1\u001b[0m \u001b[32m━━━━━━━━━━━━━━━━━━━━\u001b[0m\u001b[37m\u001b[0m \u001b[1m0s\u001b[0m 164ms/step\n",
      "[[0]]\n"
     ]
    }
   ],
   "source": [
    "# Make prediction\n",
    "predicted_probabilities = model.predict(combined_input)\n",
    "\n",
    "# Convert probabilities to binary classification\n",
    "predicted_class = (predicted_probabilities >= 0.5).astype(int)\n",
    "\n",
    "# Print the predicted class\n",
    "print(predicted_class)\n"
   ]
  },
  {
   "cell_type": "code",
   "execution_count": null,
   "metadata": {},
   "outputs": [],
   "source": []
  },
  {
   "cell_type": "code",
   "execution_count": 115,
   "metadata": {},
   "outputs": [],
   "source": [
    "import mlflow\n",
    "from mlflow.tracking import MlflowClient"
   ]
  },
  {
   "cell_type": "code",
   "execution_count": 105,
   "metadata": {},
   "outputs": [
    {
     "name": "stderr",
     "output_type": "stream",
     "text": [
      "2024/10/17 17:06:23 INFO mlflow.tracking.fluent: Experiment with name 'Fraud Detection LSTM' does not exist. Creating a new experiment.\n"
     ]
    }
   ],
   "source": [
    "import mlflow\n",
    "import mlflow.keras\n",
    "from sklearn.metrics import accuracy_score, classification_report\n",
    "\n",
    "# Set up MLflow experiment\n",
    "mlflow.set_experiment(\"Fraud Detection LSTM\")\n",
    "mlflow.set_tracking_uri(\"http://127.0.0.1:5000/\")"
   ]
  },
  {
   "cell_type": "code",
   "execution_count": 111,
   "metadata": {},
   "outputs": [],
   "source": [
    "# Access training and validation metrics\n",
    "training_loss = history.history['loss']\n",
    "validation_loss = history.history['val_loss']\n",
    "training_accuracy = history.history['accuracy']\n",
    "validation_accuracy = history.history['val_accuracy']"
   ]
  },
  {
   "cell_type": "code",
   "execution_count": 117,
   "metadata": {},
   "outputs": [
    {
     "name": "stderr",
     "output_type": "stream",
     "text": [
      "2024/10/17 17:10:39 WARNING mlflow.keras.save: You are saving a Keras model without specifying model signature.\n",
      "2024/10/17 17:10:49 WARNING mlflow.models.model: Model logged without a signature and input example. Please set `input_example` parameter when logging the model to auto infer the model signature.\n",
      "2024/10/17 17:10:50 INFO mlflow.store.model_registry.abstract_store: Waiting up to 300 seconds for model version to finish creation. Model name: FraudDetectionModel_LSTM, version 1\n",
      "2024/10/17 17:10:50 INFO mlflow.tracking._tracking_service.client: 🏃 View run luxuriant-gull-302 at: http://127.0.0.1:5000/#/experiments/856958236460782812/runs/c0aff221bb714bd2ae1d9377e013fabd.\n",
      "2024/10/17 17:10:50 INFO mlflow.tracking._tracking_service.client: 🧪 View experiment at: http://127.0.0.1:5000/#/experiments/856958236460782812.\n"
     ]
    }
   ],
   "source": [
    "with mlflow.start_run():\n",
    "    \n",
    "    # Log metrics\n",
    "    mlflow.log_metrics({\n",
    "    'final_training_loss': training_loss[-1],\n",
    "    'final_validation_loss': validation_loss[-1],\n",
    "    'final_training_accuracy': training_accuracy[-1],\n",
    "    'final_validation_accuracy': validation_accuracy[-1]\n",
    "    })\n",
    "    \n",
    "    # Log the LSTM model\n",
    "    mlflow.keras.log_model(model, \"LSTM_Model\")  \n",
    "\n",
    "    # Register the model\n",
    "    model_uri = f\"runs:/{mlflow.active_run().info.run_id}/LSTM_Model\"  # Get the model URI\n",
    "    client = MlflowClient()\n",
    "    client.create_registered_model(\"FraudDetectionModel_LSTM\")  # Give your model a name\n",
    "    client.create_model_version(\"FraudDetectionModel_LSTM\", model_uri, \"1\")  # Update version as needed"
   ]
  },
  {
   "cell_type": "code",
   "execution_count": 119,
   "metadata": {},
   "outputs": [
    {
     "name": "stdout",
     "output_type": "stream",
     "text": [
      "\u001b[1m1/1\u001b[0m \u001b[32m━━━━━━━━━━━━━━━━━━━━\u001b[0m\u001b[37m\u001b[0m \u001b[1m1s\u001b[0m 850ms/step\n",
      "[[0.00697201]]\n"
     ]
    }
   ],
   "source": [
    "import mlflow.pyfunc\n",
    "\n",
    "# Load the model (use the correct model name and version)\n",
    "loaded_model = mlflow.pyfunc.load_model(\"models:/FraudDetectionModel_LSTM/1\")  \n",
    "\n",
    "\n",
    "\n",
    "# Make predictions\n",
    "predictions = loaded_model.predict(combined_input)\n",
    "print(predictions)"
   ]
  }
 ],
 "metadata": {
  "colab": {
   "provenance": []
  },
  "kernelspec": {
   "display_name": "Python 3 (ipykernel)",
   "language": "python",
   "name": "python3"
  },
  "language_info": {
   "codemirror_mode": {
    "name": "ipython",
    "version": 3
   },
   "file_extension": ".py",
   "mimetype": "text/x-python",
   "name": "python",
   "nbconvert_exporter": "python",
   "pygments_lexer": "ipython3",
   "version": "3.11.7"
  }
 },
 "nbformat": 4,
 "nbformat_minor": 4
}
