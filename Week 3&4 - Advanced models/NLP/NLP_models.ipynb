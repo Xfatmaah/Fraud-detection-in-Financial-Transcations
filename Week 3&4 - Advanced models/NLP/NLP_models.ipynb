{
  "nbformat": 4,
  "nbformat_minor": 0,
  "metadata": {
    "colab": {
      "provenance": []
    },
    "kernelspec": {
      "name": "python3",
      "display_name": "Python 3"
    },
    "language_info": {
      "name": "python"
    }
  },
  "cells": [
    {
      "cell_type": "code",
      "execution_count": null,
      "metadata": {
        "id": "A6kcXNH2LsWS"
      },
      "outputs": [],
      "source": [
        "import pandas as pd\n",
        "import numpy as np\n",
        "from sklearn.preprocessing import LabelEncoder, MinMaxScaler\n",
        "from sklearn.model_selection import train_test_split\n",
        "from sklearn.metrics import accuracy_score, classification_report\n",
        "from imblearn.over_sampling import SMOTE"
      ]
    },
    {
      "cell_type": "code",
      "source": [
        "df = pd.read_csv('/content/drive/MyDrive/depi/Final Project/Week 3&4 - Advanced models/NLP/FraudNLP_dataset (1).csv')\n",
        "df.head()"
      ],
      "metadata": {
        "colab": {
          "base_uri": "https://localhost:8080/",
          "height": 206
        },
        "id": "D5_17qoYMI8m",
        "outputId": "6943a5bb-7dab-4ce2-9886-763684518ab5"
      },
      "execution_count": null,
      "outputs": [
        {
          "output_type": "execute_result",
          "data": {
            "text/plain": [
              "                                         actions_str  \\\n",
              "0  /PROFILE/GETCUSTOMERRESPONSE /TAXFREE/GETTAXGO...   \n",
              "1  /PROFILE/GETCUSTOMERRESPONSE /CAMPAIGN/GETBALA...   \n",
              "2  /PROFILE/GETCUSTOMERRESPONSE /PROFILE/USERPROF...   \n",
              "3  /PROFILE/GETCUSTOMERRESPONSE /CAMPAIGN/GETBALA...   \n",
              "4  /PROFILE/GETCUSTOMERRESPONSE /CAMPAIGN/GETBALA...   \n",
              "\n",
              "                                             actions  execution_time  Amount  \\\n",
              "0  [22, 27, 24, 1, 1268, 1269, 1267, 22, 29, 1, 2...             203      13   \n",
              "1  [22, 24, 27, 1, 1268, 1269, 1267, 2, 23, 6, 25...             359     310   \n",
              "2  [22, 1, 29, 22, 26, 2, 23, 25, 6, 28, 14, 7, 6...             250     350   \n",
              "3  [22, 24, 27, 72, 1269, 1268, 1267, 4, 70, 46, ...             203     350   \n",
              "4  [22, 24, 27, 23, 2, 1269, 1269, 6, 25, 7, 28, ...             593    2000   \n",
              "\n",
              "       type  is_fraud  \n",
              "0  CASH_OUT         0  \n",
              "1   PAYMENT         0  \n",
              "2  CASH_OUT         0  \n",
              "3  CASH_OUT         0  \n",
              "4   CASH_IN         1  "
            ],
            "text/html": [
              "\n",
              "  <div id=\"df-7c06287f-fed9-4b91-96a8-f4d808a38466\" class=\"colab-df-container\">\n",
              "    <div>\n",
              "<style scoped>\n",
              "    .dataframe tbody tr th:only-of-type {\n",
              "        vertical-align: middle;\n",
              "    }\n",
              "\n",
              "    .dataframe tbody tr th {\n",
              "        vertical-align: top;\n",
              "    }\n",
              "\n",
              "    .dataframe thead th {\n",
              "        text-align: right;\n",
              "    }\n",
              "</style>\n",
              "<table border=\"1\" class=\"dataframe\">\n",
              "  <thead>\n",
              "    <tr style=\"text-align: right;\">\n",
              "      <th></th>\n",
              "      <th>actions_str</th>\n",
              "      <th>actions</th>\n",
              "      <th>execution_time</th>\n",
              "      <th>Amount</th>\n",
              "      <th>type</th>\n",
              "      <th>is_fraud</th>\n",
              "    </tr>\n",
              "  </thead>\n",
              "  <tbody>\n",
              "    <tr>\n",
              "      <th>0</th>\n",
              "      <td>/PROFILE/GETCUSTOMERRESPONSE /TAXFREE/GETTAXGO...</td>\n",
              "      <td>[22, 27, 24, 1, 1268, 1269, 1267, 22, 29, 1, 2...</td>\n",
              "      <td>203</td>\n",
              "      <td>13</td>\n",
              "      <td>CASH_OUT</td>\n",
              "      <td>0</td>\n",
              "    </tr>\n",
              "    <tr>\n",
              "      <th>1</th>\n",
              "      <td>/PROFILE/GETCUSTOMERRESPONSE /CAMPAIGN/GETBALA...</td>\n",
              "      <td>[22, 24, 27, 1, 1268, 1269, 1267, 2, 23, 6, 25...</td>\n",
              "      <td>359</td>\n",
              "      <td>310</td>\n",
              "      <td>PAYMENT</td>\n",
              "      <td>0</td>\n",
              "    </tr>\n",
              "    <tr>\n",
              "      <th>2</th>\n",
              "      <td>/PROFILE/GETCUSTOMERRESPONSE /PROFILE/USERPROF...</td>\n",
              "      <td>[22, 1, 29, 22, 26, 2, 23, 25, 6, 28, 14, 7, 6...</td>\n",
              "      <td>250</td>\n",
              "      <td>350</td>\n",
              "      <td>CASH_OUT</td>\n",
              "      <td>0</td>\n",
              "    </tr>\n",
              "    <tr>\n",
              "      <th>3</th>\n",
              "      <td>/PROFILE/GETCUSTOMERRESPONSE /CAMPAIGN/GETBALA...</td>\n",
              "      <td>[22, 24, 27, 72, 1269, 1268, 1267, 4, 70, 46, ...</td>\n",
              "      <td>203</td>\n",
              "      <td>350</td>\n",
              "      <td>CASH_OUT</td>\n",
              "      <td>0</td>\n",
              "    </tr>\n",
              "    <tr>\n",
              "      <th>4</th>\n",
              "      <td>/PROFILE/GETCUSTOMERRESPONSE /CAMPAIGN/GETBALA...</td>\n",
              "      <td>[22, 24, 27, 23, 2, 1269, 1269, 6, 25, 7, 28, ...</td>\n",
              "      <td>593</td>\n",
              "      <td>2000</td>\n",
              "      <td>CASH_IN</td>\n",
              "      <td>1</td>\n",
              "    </tr>\n",
              "  </tbody>\n",
              "</table>\n",
              "</div>\n",
              "    <div class=\"colab-df-buttons\">\n",
              "\n",
              "  <div class=\"colab-df-container\">\n",
              "    <button class=\"colab-df-convert\" onclick=\"convertToInteractive('df-7c06287f-fed9-4b91-96a8-f4d808a38466')\"\n",
              "            title=\"Convert this dataframe to an interactive table.\"\n",
              "            style=\"display:none;\">\n",
              "\n",
              "  <svg xmlns=\"http://www.w3.org/2000/svg\" height=\"24px\" viewBox=\"0 -960 960 960\">\n",
              "    <path d=\"M120-120v-720h720v720H120Zm60-500h600v-160H180v160Zm220 220h160v-160H400v160Zm0 220h160v-160H400v160ZM180-400h160v-160H180v160Zm440 0h160v-160H620v160ZM180-180h160v-160H180v160Zm440 0h160v-160H620v160Z\"/>\n",
              "  </svg>\n",
              "    </button>\n",
              "\n",
              "  <style>\n",
              "    .colab-df-container {\n",
              "      display:flex;\n",
              "      gap: 12px;\n",
              "    }\n",
              "\n",
              "    .colab-df-convert {\n",
              "      background-color: #E8F0FE;\n",
              "      border: none;\n",
              "      border-radius: 50%;\n",
              "      cursor: pointer;\n",
              "      display: none;\n",
              "      fill: #1967D2;\n",
              "      height: 32px;\n",
              "      padding: 0 0 0 0;\n",
              "      width: 32px;\n",
              "    }\n",
              "\n",
              "    .colab-df-convert:hover {\n",
              "      background-color: #E2EBFA;\n",
              "      box-shadow: 0px 1px 2px rgba(60, 64, 67, 0.3), 0px 1px 3px 1px rgba(60, 64, 67, 0.15);\n",
              "      fill: #174EA6;\n",
              "    }\n",
              "\n",
              "    .colab-df-buttons div {\n",
              "      margin-bottom: 4px;\n",
              "    }\n",
              "\n",
              "    [theme=dark] .colab-df-convert {\n",
              "      background-color: #3B4455;\n",
              "      fill: #D2E3FC;\n",
              "    }\n",
              "\n",
              "    [theme=dark] .colab-df-convert:hover {\n",
              "      background-color: #434B5C;\n",
              "      box-shadow: 0px 1px 3px 1px rgba(0, 0, 0, 0.15);\n",
              "      filter: drop-shadow(0px 1px 2px rgba(0, 0, 0, 0.3));\n",
              "      fill: #FFFFFF;\n",
              "    }\n",
              "  </style>\n",
              "\n",
              "    <script>\n",
              "      const buttonEl =\n",
              "        document.querySelector('#df-7c06287f-fed9-4b91-96a8-f4d808a38466 button.colab-df-convert');\n",
              "      buttonEl.style.display =\n",
              "        google.colab.kernel.accessAllowed ? 'block' : 'none';\n",
              "\n",
              "      async function convertToInteractive(key) {\n",
              "        const element = document.querySelector('#df-7c06287f-fed9-4b91-96a8-f4d808a38466');\n",
              "        const dataTable =\n",
              "          await google.colab.kernel.invokeFunction('convertToInteractive',\n",
              "                                                    [key], {});\n",
              "        if (!dataTable) return;\n",
              "\n",
              "        const docLinkHtml = 'Like what you see? Visit the ' +\n",
              "          '<a target=\"_blank\" href=https://colab.research.google.com/notebooks/data_table.ipynb>data table notebook</a>'\n",
              "          + ' to learn more about interactive tables.';\n",
              "        element.innerHTML = '';\n",
              "        dataTable['output_type'] = 'display_data';\n",
              "        await google.colab.output.renderOutput(dataTable, element);\n",
              "        const docLink = document.createElement('div');\n",
              "        docLink.innerHTML = docLinkHtml;\n",
              "        element.appendChild(docLink);\n",
              "      }\n",
              "    </script>\n",
              "  </div>\n",
              "\n",
              "\n",
              "<div id=\"df-b1e8269d-55a7-45a1-a77a-41971024e118\">\n",
              "  <button class=\"colab-df-quickchart\" onclick=\"quickchart('df-b1e8269d-55a7-45a1-a77a-41971024e118')\"\n",
              "            title=\"Suggest charts\"\n",
              "            style=\"display:none;\">\n",
              "\n",
              "<svg xmlns=\"http://www.w3.org/2000/svg\" height=\"24px\"viewBox=\"0 0 24 24\"\n",
              "     width=\"24px\">\n",
              "    <g>\n",
              "        <path d=\"M19 3H5c-1.1 0-2 .9-2 2v14c0 1.1.9 2 2 2h14c1.1 0 2-.9 2-2V5c0-1.1-.9-2-2-2zM9 17H7v-7h2v7zm4 0h-2V7h2v10zm4 0h-2v-4h2v4z\"/>\n",
              "    </g>\n",
              "</svg>\n",
              "  </button>\n",
              "\n",
              "<style>\n",
              "  .colab-df-quickchart {\n",
              "      --bg-color: #E8F0FE;\n",
              "      --fill-color: #1967D2;\n",
              "      --hover-bg-color: #E2EBFA;\n",
              "      --hover-fill-color: #174EA6;\n",
              "      --disabled-fill-color: #AAA;\n",
              "      --disabled-bg-color: #DDD;\n",
              "  }\n",
              "\n",
              "  [theme=dark] .colab-df-quickchart {\n",
              "      --bg-color: #3B4455;\n",
              "      --fill-color: #D2E3FC;\n",
              "      --hover-bg-color: #434B5C;\n",
              "      --hover-fill-color: #FFFFFF;\n",
              "      --disabled-bg-color: #3B4455;\n",
              "      --disabled-fill-color: #666;\n",
              "  }\n",
              "\n",
              "  .colab-df-quickchart {\n",
              "    background-color: var(--bg-color);\n",
              "    border: none;\n",
              "    border-radius: 50%;\n",
              "    cursor: pointer;\n",
              "    display: none;\n",
              "    fill: var(--fill-color);\n",
              "    height: 32px;\n",
              "    padding: 0;\n",
              "    width: 32px;\n",
              "  }\n",
              "\n",
              "  .colab-df-quickchart:hover {\n",
              "    background-color: var(--hover-bg-color);\n",
              "    box-shadow: 0 1px 2px rgba(60, 64, 67, 0.3), 0 1px 3px 1px rgba(60, 64, 67, 0.15);\n",
              "    fill: var(--button-hover-fill-color);\n",
              "  }\n",
              "\n",
              "  .colab-df-quickchart-complete:disabled,\n",
              "  .colab-df-quickchart-complete:disabled:hover {\n",
              "    background-color: var(--disabled-bg-color);\n",
              "    fill: var(--disabled-fill-color);\n",
              "    box-shadow: none;\n",
              "  }\n",
              "\n",
              "  .colab-df-spinner {\n",
              "    border: 2px solid var(--fill-color);\n",
              "    border-color: transparent;\n",
              "    border-bottom-color: var(--fill-color);\n",
              "    animation:\n",
              "      spin 1s steps(1) infinite;\n",
              "  }\n",
              "\n",
              "  @keyframes spin {\n",
              "    0% {\n",
              "      border-color: transparent;\n",
              "      border-bottom-color: var(--fill-color);\n",
              "      border-left-color: var(--fill-color);\n",
              "    }\n",
              "    20% {\n",
              "      border-color: transparent;\n",
              "      border-left-color: var(--fill-color);\n",
              "      border-top-color: var(--fill-color);\n",
              "    }\n",
              "    30% {\n",
              "      border-color: transparent;\n",
              "      border-left-color: var(--fill-color);\n",
              "      border-top-color: var(--fill-color);\n",
              "      border-right-color: var(--fill-color);\n",
              "    }\n",
              "    40% {\n",
              "      border-color: transparent;\n",
              "      border-right-color: var(--fill-color);\n",
              "      border-top-color: var(--fill-color);\n",
              "    }\n",
              "    60% {\n",
              "      border-color: transparent;\n",
              "      border-right-color: var(--fill-color);\n",
              "    }\n",
              "    80% {\n",
              "      border-color: transparent;\n",
              "      border-right-color: var(--fill-color);\n",
              "      border-bottom-color: var(--fill-color);\n",
              "    }\n",
              "    90% {\n",
              "      border-color: transparent;\n",
              "      border-bottom-color: var(--fill-color);\n",
              "    }\n",
              "  }\n",
              "</style>\n",
              "\n",
              "  <script>\n",
              "    async function quickchart(key) {\n",
              "      const quickchartButtonEl =\n",
              "        document.querySelector('#' + key + ' button');\n",
              "      quickchartButtonEl.disabled = true;  // To prevent multiple clicks.\n",
              "      quickchartButtonEl.classList.add('colab-df-spinner');\n",
              "      try {\n",
              "        const charts = await google.colab.kernel.invokeFunction(\n",
              "            'suggestCharts', [key], {});\n",
              "      } catch (error) {\n",
              "        console.error('Error during call to suggestCharts:', error);\n",
              "      }\n",
              "      quickchartButtonEl.classList.remove('colab-df-spinner');\n",
              "      quickchartButtonEl.classList.add('colab-df-quickchart-complete');\n",
              "    }\n",
              "    (() => {\n",
              "      let quickchartButtonEl =\n",
              "        document.querySelector('#df-b1e8269d-55a7-45a1-a77a-41971024e118 button');\n",
              "      quickchartButtonEl.style.display =\n",
              "        google.colab.kernel.accessAllowed ? 'block' : 'none';\n",
              "    })();\n",
              "  </script>\n",
              "</div>\n",
              "\n",
              "    </div>\n",
              "  </div>\n"
            ],
            "application/vnd.google.colaboratory.intrinsic+json": {
              "type": "dataframe",
              "variable_name": "df"
            }
          },
          "metadata": {},
          "execution_count": 76
        }
      ]
    },
    {
      "cell_type": "code",
      "source": [
        "from google.colab import drive\n",
        "drive.mount('/content/drive')"
      ],
      "metadata": {
        "id": "ILMr7kVhpImh",
        "outputId": "6a9c30f3-33a1-433b-badd-61fa52f91bcc",
        "colab": {
          "base_uri": "https://localhost:8080/"
        }
      },
      "execution_count": null,
      "outputs": [
        {
          "output_type": "stream",
          "name": "stdout",
          "text": [
            "Drive already mounted at /content/drive; to attempt to forcibly remount, call drive.mount(\"/content/drive\", force_remount=True).\n"
          ]
        }
      ]
    },
    {
      "cell_type": "code",
      "source": [
        "df = df[['actions_str','actions','execution_time', 'Amount', 'type', 'is_fraud']]\n",
        "df"
      ],
      "metadata": {
        "colab": {
          "base_uri": "https://localhost:8080/",
          "height": 423
        },
        "id": "YC5MCuZeMQHx",
        "outputId": "bcb5f2f3-bd96-4381-d9bc-462f38157baa"
      },
      "execution_count": null,
      "outputs": [
        {
          "output_type": "execute_result",
          "data": {
            "text/plain": [
              "                                              actions_str  \\\n",
              "0       /PROFILE/GETCUSTOMERRESPONSE /TAXFREE/GETTAXGO...   \n",
              "1       /PROFILE/GETCUSTOMERRESPONSE /CAMPAIGN/GETBALA...   \n",
              "2       /PROFILE/GETCUSTOMERRESPONSE /PROFILE/USERPROF...   \n",
              "3       /PROFILE/GETCUSTOMERRESPONSE /CAMPAIGN/GETBALA...   \n",
              "4       /PROFILE/GETCUSTOMERRESPONSE /CAMPAIGN/GETBALA...   \n",
              "...                                                   ...   \n",
              "105297  /PROFILE/GETCUSTOMERRESPONSE /PROFILE/GETCUSTO...   \n",
              "105298  /PROFILE/GETCUSTOMERRESPONSE /PROFILE/GETCUSTO...   \n",
              "105299  /PROFILE/GETCUSTOMERRESPONSE /PROFILE/GETCUSTO...   \n",
              "105300  /PROFILE/GETCUSTOMERRESPONSE /PROFILE/GETCUSTO...   \n",
              "105301  /PROFILE/GETCUSTOMERRESPONSE /PROFILE/GETCUSTO...   \n",
              "\n",
              "                                                  actions  execution_time  \\\n",
              "0       [22, 27, 24, 1, 1268, 1269, 1267, 22, 29, 1, 2...             203   \n",
              "1       [22, 24, 27, 1, 1268, 1269, 1267, 2, 23, 6, 25...             359   \n",
              "2       [22, 1, 29, 22, 26, 2, 23, 25, 6, 28, 14, 7, 6...             250   \n",
              "3       [22, 24, 27, 72, 1269, 1268, 1267, 4, 70, 46, ...             203   \n",
              "4       [22, 24, 27, 23, 2, 1269, 1269, 6, 25, 7, 28, ...             593   \n",
              "...                                                   ...             ...   \n",
              "105297  [22, 22, 27, 24, 17, 15, 1, 16, 53, 2, 23, 28,...             265   \n",
              "105298  [22, 22, 24, 27, 1, 16, 17, 53, 15, 29, 22, 26...             328   \n",
              "105299  [22, 22, 24, 27, 1, 15, 17, 16, 53, 23, 2, 28,...             265   \n",
              "105300  [22, 22, 24, 27, 1, 7, 1, 14, 24, 27, 33, 39, ...             265   \n",
              "105301  [22, 22, 24, 27, 1, 15, 17, 16, 53, 46, 117, 1...             374   \n",
              "\n",
              "        Amount      type  is_fraud  \n",
              "0           13  CASH_OUT         0  \n",
              "1          310   PAYMENT         0  \n",
              "2          350  CASH_OUT         0  \n",
              "3          350  CASH_OUT         0  \n",
              "4         2000   CASH_IN         1  \n",
              "...        ...       ...       ...  \n",
              "105297      10   PAYMENT         0  \n",
              "105298    3000   CASH_IN         0  \n",
              "105299       8  CASH_OUT         0  \n",
              "105300      70  CASH_OUT         0  \n",
              "105301      10       NaN         0  \n",
              "\n",
              "[105302 rows x 6 columns]"
            ],
            "text/html": [
              "\n",
              "  <div id=\"df-13ec0b99-7170-4f7b-89ef-7342208dc9c8\" class=\"colab-df-container\">\n",
              "    <div>\n",
              "<style scoped>\n",
              "    .dataframe tbody tr th:only-of-type {\n",
              "        vertical-align: middle;\n",
              "    }\n",
              "\n",
              "    .dataframe tbody tr th {\n",
              "        vertical-align: top;\n",
              "    }\n",
              "\n",
              "    .dataframe thead th {\n",
              "        text-align: right;\n",
              "    }\n",
              "</style>\n",
              "<table border=\"1\" class=\"dataframe\">\n",
              "  <thead>\n",
              "    <tr style=\"text-align: right;\">\n",
              "      <th></th>\n",
              "      <th>actions_str</th>\n",
              "      <th>actions</th>\n",
              "      <th>execution_time</th>\n",
              "      <th>Amount</th>\n",
              "      <th>type</th>\n",
              "      <th>is_fraud</th>\n",
              "    </tr>\n",
              "  </thead>\n",
              "  <tbody>\n",
              "    <tr>\n",
              "      <th>0</th>\n",
              "      <td>/PROFILE/GETCUSTOMERRESPONSE /TAXFREE/GETTAXGO...</td>\n",
              "      <td>[22, 27, 24, 1, 1268, 1269, 1267, 22, 29, 1, 2...</td>\n",
              "      <td>203</td>\n",
              "      <td>13</td>\n",
              "      <td>CASH_OUT</td>\n",
              "      <td>0</td>\n",
              "    </tr>\n",
              "    <tr>\n",
              "      <th>1</th>\n",
              "      <td>/PROFILE/GETCUSTOMERRESPONSE /CAMPAIGN/GETBALA...</td>\n",
              "      <td>[22, 24, 27, 1, 1268, 1269, 1267, 2, 23, 6, 25...</td>\n",
              "      <td>359</td>\n",
              "      <td>310</td>\n",
              "      <td>PAYMENT</td>\n",
              "      <td>0</td>\n",
              "    </tr>\n",
              "    <tr>\n",
              "      <th>2</th>\n",
              "      <td>/PROFILE/GETCUSTOMERRESPONSE /PROFILE/USERPROF...</td>\n",
              "      <td>[22, 1, 29, 22, 26, 2, 23, 25, 6, 28, 14, 7, 6...</td>\n",
              "      <td>250</td>\n",
              "      <td>350</td>\n",
              "      <td>CASH_OUT</td>\n",
              "      <td>0</td>\n",
              "    </tr>\n",
              "    <tr>\n",
              "      <th>3</th>\n",
              "      <td>/PROFILE/GETCUSTOMERRESPONSE /CAMPAIGN/GETBALA...</td>\n",
              "      <td>[22, 24, 27, 72, 1269, 1268, 1267, 4, 70, 46, ...</td>\n",
              "      <td>203</td>\n",
              "      <td>350</td>\n",
              "      <td>CASH_OUT</td>\n",
              "      <td>0</td>\n",
              "    </tr>\n",
              "    <tr>\n",
              "      <th>4</th>\n",
              "      <td>/PROFILE/GETCUSTOMERRESPONSE /CAMPAIGN/GETBALA...</td>\n",
              "      <td>[22, 24, 27, 23, 2, 1269, 1269, 6, 25, 7, 28, ...</td>\n",
              "      <td>593</td>\n",
              "      <td>2000</td>\n",
              "      <td>CASH_IN</td>\n",
              "      <td>1</td>\n",
              "    </tr>\n",
              "    <tr>\n",
              "      <th>...</th>\n",
              "      <td>...</td>\n",
              "      <td>...</td>\n",
              "      <td>...</td>\n",
              "      <td>...</td>\n",
              "      <td>...</td>\n",
              "      <td>...</td>\n",
              "    </tr>\n",
              "    <tr>\n",
              "      <th>105297</th>\n",
              "      <td>/PROFILE/GETCUSTOMERRESPONSE /PROFILE/GETCUSTO...</td>\n",
              "      <td>[22, 22, 27, 24, 17, 15, 1, 16, 53, 2, 23, 28,...</td>\n",
              "      <td>265</td>\n",
              "      <td>10</td>\n",
              "      <td>PAYMENT</td>\n",
              "      <td>0</td>\n",
              "    </tr>\n",
              "    <tr>\n",
              "      <th>105298</th>\n",
              "      <td>/PROFILE/GETCUSTOMERRESPONSE /PROFILE/GETCUSTO...</td>\n",
              "      <td>[22, 22, 24, 27, 1, 16, 17, 53, 15, 29, 22, 26...</td>\n",
              "      <td>328</td>\n",
              "      <td>3000</td>\n",
              "      <td>CASH_IN</td>\n",
              "      <td>0</td>\n",
              "    </tr>\n",
              "    <tr>\n",
              "      <th>105299</th>\n",
              "      <td>/PROFILE/GETCUSTOMERRESPONSE /PROFILE/GETCUSTO...</td>\n",
              "      <td>[22, 22, 24, 27, 1, 15, 17, 16, 53, 23, 2, 28,...</td>\n",
              "      <td>265</td>\n",
              "      <td>8</td>\n",
              "      <td>CASH_OUT</td>\n",
              "      <td>0</td>\n",
              "    </tr>\n",
              "    <tr>\n",
              "      <th>105300</th>\n",
              "      <td>/PROFILE/GETCUSTOMERRESPONSE /PROFILE/GETCUSTO...</td>\n",
              "      <td>[22, 22, 24, 27, 1, 7, 1, 14, 24, 27, 33, 39, ...</td>\n",
              "      <td>265</td>\n",
              "      <td>70</td>\n",
              "      <td>CASH_OUT</td>\n",
              "      <td>0</td>\n",
              "    </tr>\n",
              "    <tr>\n",
              "      <th>105301</th>\n",
              "      <td>/PROFILE/GETCUSTOMERRESPONSE /PROFILE/GETCUSTO...</td>\n",
              "      <td>[22, 22, 24, 27, 1, 15, 17, 16, 53, 46, 117, 1...</td>\n",
              "      <td>374</td>\n",
              "      <td>10</td>\n",
              "      <td>NaN</td>\n",
              "      <td>0</td>\n",
              "    </tr>\n",
              "  </tbody>\n",
              "</table>\n",
              "<p>105302 rows × 6 columns</p>\n",
              "</div>\n",
              "    <div class=\"colab-df-buttons\">\n",
              "\n",
              "  <div class=\"colab-df-container\">\n",
              "    <button class=\"colab-df-convert\" onclick=\"convertToInteractive('df-13ec0b99-7170-4f7b-89ef-7342208dc9c8')\"\n",
              "            title=\"Convert this dataframe to an interactive table.\"\n",
              "            style=\"display:none;\">\n",
              "\n",
              "  <svg xmlns=\"http://www.w3.org/2000/svg\" height=\"24px\" viewBox=\"0 -960 960 960\">\n",
              "    <path d=\"M120-120v-720h720v720H120Zm60-500h600v-160H180v160Zm220 220h160v-160H400v160Zm0 220h160v-160H400v160ZM180-400h160v-160H180v160Zm440 0h160v-160H620v160ZM180-180h160v-160H180v160Zm440 0h160v-160H620v160Z\"/>\n",
              "  </svg>\n",
              "    </button>\n",
              "\n",
              "  <style>\n",
              "    .colab-df-container {\n",
              "      display:flex;\n",
              "      gap: 12px;\n",
              "    }\n",
              "\n",
              "    .colab-df-convert {\n",
              "      background-color: #E8F0FE;\n",
              "      border: none;\n",
              "      border-radius: 50%;\n",
              "      cursor: pointer;\n",
              "      display: none;\n",
              "      fill: #1967D2;\n",
              "      height: 32px;\n",
              "      padding: 0 0 0 0;\n",
              "      width: 32px;\n",
              "    }\n",
              "\n",
              "    .colab-df-convert:hover {\n",
              "      background-color: #E2EBFA;\n",
              "      box-shadow: 0px 1px 2px rgba(60, 64, 67, 0.3), 0px 1px 3px 1px rgba(60, 64, 67, 0.15);\n",
              "      fill: #174EA6;\n",
              "    }\n",
              "\n",
              "    .colab-df-buttons div {\n",
              "      margin-bottom: 4px;\n",
              "    }\n",
              "\n",
              "    [theme=dark] .colab-df-convert {\n",
              "      background-color: #3B4455;\n",
              "      fill: #D2E3FC;\n",
              "    }\n",
              "\n",
              "    [theme=dark] .colab-df-convert:hover {\n",
              "      background-color: #434B5C;\n",
              "      box-shadow: 0px 1px 3px 1px rgba(0, 0, 0, 0.15);\n",
              "      filter: drop-shadow(0px 1px 2px rgba(0, 0, 0, 0.3));\n",
              "      fill: #FFFFFF;\n",
              "    }\n",
              "  </style>\n",
              "\n",
              "    <script>\n",
              "      const buttonEl =\n",
              "        document.querySelector('#df-13ec0b99-7170-4f7b-89ef-7342208dc9c8 button.colab-df-convert');\n",
              "      buttonEl.style.display =\n",
              "        google.colab.kernel.accessAllowed ? 'block' : 'none';\n",
              "\n",
              "      async function convertToInteractive(key) {\n",
              "        const element = document.querySelector('#df-13ec0b99-7170-4f7b-89ef-7342208dc9c8');\n",
              "        const dataTable =\n",
              "          await google.colab.kernel.invokeFunction('convertToInteractive',\n",
              "                                                    [key], {});\n",
              "        if (!dataTable) return;\n",
              "\n",
              "        const docLinkHtml = 'Like what you see? Visit the ' +\n",
              "          '<a target=\"_blank\" href=https://colab.research.google.com/notebooks/data_table.ipynb>data table notebook</a>'\n",
              "          + ' to learn more about interactive tables.';\n",
              "        element.innerHTML = '';\n",
              "        dataTable['output_type'] = 'display_data';\n",
              "        await google.colab.output.renderOutput(dataTable, element);\n",
              "        const docLink = document.createElement('div');\n",
              "        docLink.innerHTML = docLinkHtml;\n",
              "        element.appendChild(docLink);\n",
              "      }\n",
              "    </script>\n",
              "  </div>\n",
              "\n",
              "\n",
              "<div id=\"df-7c6b37d2-9ecd-4e69-aadb-bfb6bae97e0e\">\n",
              "  <button class=\"colab-df-quickchart\" onclick=\"quickchart('df-7c6b37d2-9ecd-4e69-aadb-bfb6bae97e0e')\"\n",
              "            title=\"Suggest charts\"\n",
              "            style=\"display:none;\">\n",
              "\n",
              "<svg xmlns=\"http://www.w3.org/2000/svg\" height=\"24px\"viewBox=\"0 0 24 24\"\n",
              "     width=\"24px\">\n",
              "    <g>\n",
              "        <path d=\"M19 3H5c-1.1 0-2 .9-2 2v14c0 1.1.9 2 2 2h14c1.1 0 2-.9 2-2V5c0-1.1-.9-2-2-2zM9 17H7v-7h2v7zm4 0h-2V7h2v10zm4 0h-2v-4h2v4z\"/>\n",
              "    </g>\n",
              "</svg>\n",
              "  </button>\n",
              "\n",
              "<style>\n",
              "  .colab-df-quickchart {\n",
              "      --bg-color: #E8F0FE;\n",
              "      --fill-color: #1967D2;\n",
              "      --hover-bg-color: #E2EBFA;\n",
              "      --hover-fill-color: #174EA6;\n",
              "      --disabled-fill-color: #AAA;\n",
              "      --disabled-bg-color: #DDD;\n",
              "  }\n",
              "\n",
              "  [theme=dark] .colab-df-quickchart {\n",
              "      --bg-color: #3B4455;\n",
              "      --fill-color: #D2E3FC;\n",
              "      --hover-bg-color: #434B5C;\n",
              "      --hover-fill-color: #FFFFFF;\n",
              "      --disabled-bg-color: #3B4455;\n",
              "      --disabled-fill-color: #666;\n",
              "  }\n",
              "\n",
              "  .colab-df-quickchart {\n",
              "    background-color: var(--bg-color);\n",
              "    border: none;\n",
              "    border-radius: 50%;\n",
              "    cursor: pointer;\n",
              "    display: none;\n",
              "    fill: var(--fill-color);\n",
              "    height: 32px;\n",
              "    padding: 0;\n",
              "    width: 32px;\n",
              "  }\n",
              "\n",
              "  .colab-df-quickchart:hover {\n",
              "    background-color: var(--hover-bg-color);\n",
              "    box-shadow: 0 1px 2px rgba(60, 64, 67, 0.3), 0 1px 3px 1px rgba(60, 64, 67, 0.15);\n",
              "    fill: var(--button-hover-fill-color);\n",
              "  }\n",
              "\n",
              "  .colab-df-quickchart-complete:disabled,\n",
              "  .colab-df-quickchart-complete:disabled:hover {\n",
              "    background-color: var(--disabled-bg-color);\n",
              "    fill: var(--disabled-fill-color);\n",
              "    box-shadow: none;\n",
              "  }\n",
              "\n",
              "  .colab-df-spinner {\n",
              "    border: 2px solid var(--fill-color);\n",
              "    border-color: transparent;\n",
              "    border-bottom-color: var(--fill-color);\n",
              "    animation:\n",
              "      spin 1s steps(1) infinite;\n",
              "  }\n",
              "\n",
              "  @keyframes spin {\n",
              "    0% {\n",
              "      border-color: transparent;\n",
              "      border-bottom-color: var(--fill-color);\n",
              "      border-left-color: var(--fill-color);\n",
              "    }\n",
              "    20% {\n",
              "      border-color: transparent;\n",
              "      border-left-color: var(--fill-color);\n",
              "      border-top-color: var(--fill-color);\n",
              "    }\n",
              "    30% {\n",
              "      border-color: transparent;\n",
              "      border-left-color: var(--fill-color);\n",
              "      border-top-color: var(--fill-color);\n",
              "      border-right-color: var(--fill-color);\n",
              "    }\n",
              "    40% {\n",
              "      border-color: transparent;\n",
              "      border-right-color: var(--fill-color);\n",
              "      border-top-color: var(--fill-color);\n",
              "    }\n",
              "    60% {\n",
              "      border-color: transparent;\n",
              "      border-right-color: var(--fill-color);\n",
              "    }\n",
              "    80% {\n",
              "      border-color: transparent;\n",
              "      border-right-color: var(--fill-color);\n",
              "      border-bottom-color: var(--fill-color);\n",
              "    }\n",
              "    90% {\n",
              "      border-color: transparent;\n",
              "      border-bottom-color: var(--fill-color);\n",
              "    }\n",
              "  }\n",
              "</style>\n",
              "\n",
              "  <script>\n",
              "    async function quickchart(key) {\n",
              "      const quickchartButtonEl =\n",
              "        document.querySelector('#' + key + ' button');\n",
              "      quickchartButtonEl.disabled = true;  // To prevent multiple clicks.\n",
              "      quickchartButtonEl.classList.add('colab-df-spinner');\n",
              "      try {\n",
              "        const charts = await google.colab.kernel.invokeFunction(\n",
              "            'suggestCharts', [key], {});\n",
              "      } catch (error) {\n",
              "        console.error('Error during call to suggestCharts:', error);\n",
              "      }\n",
              "      quickchartButtonEl.classList.remove('colab-df-spinner');\n",
              "      quickchartButtonEl.classList.add('colab-df-quickchart-complete');\n",
              "    }\n",
              "    (() => {\n",
              "      let quickchartButtonEl =\n",
              "        document.querySelector('#df-7c6b37d2-9ecd-4e69-aadb-bfb6bae97e0e button');\n",
              "      quickchartButtonEl.style.display =\n",
              "        google.colab.kernel.accessAllowed ? 'block' : 'none';\n",
              "    })();\n",
              "  </script>\n",
              "</div>\n",
              "\n",
              "  <div id=\"id_8ac5fda6-5e99-4011-bfc1-92c0dff112e0\">\n",
              "    <style>\n",
              "      .colab-df-generate {\n",
              "        background-color: #E8F0FE;\n",
              "        border: none;\n",
              "        border-radius: 50%;\n",
              "        cursor: pointer;\n",
              "        display: none;\n",
              "        fill: #1967D2;\n",
              "        height: 32px;\n",
              "        padding: 0 0 0 0;\n",
              "        width: 32px;\n",
              "      }\n",
              "\n",
              "      .colab-df-generate:hover {\n",
              "        background-color: #E2EBFA;\n",
              "        box-shadow: 0px 1px 2px rgba(60, 64, 67, 0.3), 0px 1px 3px 1px rgba(60, 64, 67, 0.15);\n",
              "        fill: #174EA6;\n",
              "      }\n",
              "\n",
              "      [theme=dark] .colab-df-generate {\n",
              "        background-color: #3B4455;\n",
              "        fill: #D2E3FC;\n",
              "      }\n",
              "\n",
              "      [theme=dark] .colab-df-generate:hover {\n",
              "        background-color: #434B5C;\n",
              "        box-shadow: 0px 1px 3px 1px rgba(0, 0, 0, 0.15);\n",
              "        filter: drop-shadow(0px 1px 2px rgba(0, 0, 0, 0.3));\n",
              "        fill: #FFFFFF;\n",
              "      }\n",
              "    </style>\n",
              "    <button class=\"colab-df-generate\" onclick=\"generateWithVariable('df')\"\n",
              "            title=\"Generate code using this dataframe.\"\n",
              "            style=\"display:none;\">\n",
              "\n",
              "  <svg xmlns=\"http://www.w3.org/2000/svg\" height=\"24px\"viewBox=\"0 0 24 24\"\n",
              "       width=\"24px\">\n",
              "    <path d=\"M7,19H8.4L18.45,9,17,7.55,7,17.6ZM5,21V16.75L18.45,3.32a2,2,0,0,1,2.83,0l1.4,1.43a1.91,1.91,0,0,1,.58,1.4,1.91,1.91,0,0,1-.58,1.4L9.25,21ZM18.45,9,17,7.55Zm-12,3A5.31,5.31,0,0,0,4.9,8.1,5.31,5.31,0,0,0,1,6.5,5.31,5.31,0,0,0,4.9,4.9,5.31,5.31,0,0,0,6.5,1,5.31,5.31,0,0,0,8.1,4.9,5.31,5.31,0,0,0,12,6.5,5.46,5.46,0,0,0,6.5,12Z\"/>\n",
              "  </svg>\n",
              "    </button>\n",
              "    <script>\n",
              "      (() => {\n",
              "      const buttonEl =\n",
              "        document.querySelector('#id_8ac5fda6-5e99-4011-bfc1-92c0dff112e0 button.colab-df-generate');\n",
              "      buttonEl.style.display =\n",
              "        google.colab.kernel.accessAllowed ? 'block' : 'none';\n",
              "\n",
              "      buttonEl.onclick = () => {\n",
              "        google.colab.notebook.generateWithVariable('df');\n",
              "      }\n",
              "      })();\n",
              "    </script>\n",
              "  </div>\n",
              "\n",
              "    </div>\n",
              "  </div>\n"
            ],
            "application/vnd.google.colaboratory.intrinsic+json": {
              "type": "dataframe",
              "variable_name": "df"
            }
          },
          "metadata": {},
          "execution_count": 78
        }
      ]
    },
    {
      "cell_type": "code",
      "source": [
        "le = LabelEncoder()\n",
        "df['type'] = le.fit_transform(df['type'])\n",
        "df.head()"
      ],
      "metadata": {
        "colab": {
          "base_uri": "https://localhost:8080/",
          "height": 206
        },
        "id": "pgv7JvZGMoz2",
        "outputId": "ef7fc410-3f1e-43ba-9a25-7ecfdba19e10"
      },
      "execution_count": null,
      "outputs": [
        {
          "output_type": "execute_result",
          "data": {
            "text/plain": [
              "                                         actions_str  \\\n",
              "0  /PROFILE/GETCUSTOMERRESPONSE /TAXFREE/GETTAXGO...   \n",
              "1  /PROFILE/GETCUSTOMERRESPONSE /CAMPAIGN/GETBALA...   \n",
              "2  /PROFILE/GETCUSTOMERRESPONSE /PROFILE/USERPROF...   \n",
              "3  /PROFILE/GETCUSTOMERRESPONSE /CAMPAIGN/GETBALA...   \n",
              "4  /PROFILE/GETCUSTOMERRESPONSE /CAMPAIGN/GETBALA...   \n",
              "\n",
              "                                             actions  execution_time  Amount  \\\n",
              "0  [22, 27, 24, 1, 1268, 1269, 1267, 22, 29, 1, 2...             203      13   \n",
              "1  [22, 24, 27, 1, 1268, 1269, 1267, 2, 23, 6, 25...             359     310   \n",
              "2  [22, 1, 29, 22, 26, 2, 23, 25, 6, 28, 14, 7, 6...             250     350   \n",
              "3  [22, 24, 27, 72, 1269, 1268, 1267, 4, 70, 46, ...             203     350   \n",
              "4  [22, 24, 27, 23, 2, 1269, 1269, 6, 25, 7, 28, ...             593    2000   \n",
              "\n",
              "   type  is_fraud  \n",
              "0     1         0  \n",
              "1     2         0  \n",
              "2     1         0  \n",
              "3     1         0  \n",
              "4     0         1  "
            ],
            "text/html": [
              "\n",
              "  <div id=\"df-f23b2334-9f66-4cf1-8b25-19adcbba9f39\" class=\"colab-df-container\">\n",
              "    <div>\n",
              "<style scoped>\n",
              "    .dataframe tbody tr th:only-of-type {\n",
              "        vertical-align: middle;\n",
              "    }\n",
              "\n",
              "    .dataframe tbody tr th {\n",
              "        vertical-align: top;\n",
              "    }\n",
              "\n",
              "    .dataframe thead th {\n",
              "        text-align: right;\n",
              "    }\n",
              "</style>\n",
              "<table border=\"1\" class=\"dataframe\">\n",
              "  <thead>\n",
              "    <tr style=\"text-align: right;\">\n",
              "      <th></th>\n",
              "      <th>actions_str</th>\n",
              "      <th>actions</th>\n",
              "      <th>execution_time</th>\n",
              "      <th>Amount</th>\n",
              "      <th>type</th>\n",
              "      <th>is_fraud</th>\n",
              "    </tr>\n",
              "  </thead>\n",
              "  <tbody>\n",
              "    <tr>\n",
              "      <th>0</th>\n",
              "      <td>/PROFILE/GETCUSTOMERRESPONSE /TAXFREE/GETTAXGO...</td>\n",
              "      <td>[22, 27, 24, 1, 1268, 1269, 1267, 22, 29, 1, 2...</td>\n",
              "      <td>203</td>\n",
              "      <td>13</td>\n",
              "      <td>1</td>\n",
              "      <td>0</td>\n",
              "    </tr>\n",
              "    <tr>\n",
              "      <th>1</th>\n",
              "      <td>/PROFILE/GETCUSTOMERRESPONSE /CAMPAIGN/GETBALA...</td>\n",
              "      <td>[22, 24, 27, 1, 1268, 1269, 1267, 2, 23, 6, 25...</td>\n",
              "      <td>359</td>\n",
              "      <td>310</td>\n",
              "      <td>2</td>\n",
              "      <td>0</td>\n",
              "    </tr>\n",
              "    <tr>\n",
              "      <th>2</th>\n",
              "      <td>/PROFILE/GETCUSTOMERRESPONSE /PROFILE/USERPROF...</td>\n",
              "      <td>[22, 1, 29, 22, 26, 2, 23, 25, 6, 28, 14, 7, 6...</td>\n",
              "      <td>250</td>\n",
              "      <td>350</td>\n",
              "      <td>1</td>\n",
              "      <td>0</td>\n",
              "    </tr>\n",
              "    <tr>\n",
              "      <th>3</th>\n",
              "      <td>/PROFILE/GETCUSTOMERRESPONSE /CAMPAIGN/GETBALA...</td>\n",
              "      <td>[22, 24, 27, 72, 1269, 1268, 1267, 4, 70, 46, ...</td>\n",
              "      <td>203</td>\n",
              "      <td>350</td>\n",
              "      <td>1</td>\n",
              "      <td>0</td>\n",
              "    </tr>\n",
              "    <tr>\n",
              "      <th>4</th>\n",
              "      <td>/PROFILE/GETCUSTOMERRESPONSE /CAMPAIGN/GETBALA...</td>\n",
              "      <td>[22, 24, 27, 23, 2, 1269, 1269, 6, 25, 7, 28, ...</td>\n",
              "      <td>593</td>\n",
              "      <td>2000</td>\n",
              "      <td>0</td>\n",
              "      <td>1</td>\n",
              "    </tr>\n",
              "  </tbody>\n",
              "</table>\n",
              "</div>\n",
              "    <div class=\"colab-df-buttons\">\n",
              "\n",
              "  <div class=\"colab-df-container\">\n",
              "    <button class=\"colab-df-convert\" onclick=\"convertToInteractive('df-f23b2334-9f66-4cf1-8b25-19adcbba9f39')\"\n",
              "            title=\"Convert this dataframe to an interactive table.\"\n",
              "            style=\"display:none;\">\n",
              "\n",
              "  <svg xmlns=\"http://www.w3.org/2000/svg\" height=\"24px\" viewBox=\"0 -960 960 960\">\n",
              "    <path d=\"M120-120v-720h720v720H120Zm60-500h600v-160H180v160Zm220 220h160v-160H400v160Zm0 220h160v-160H400v160ZM180-400h160v-160H180v160Zm440 0h160v-160H620v160ZM180-180h160v-160H180v160Zm440 0h160v-160H620v160Z\"/>\n",
              "  </svg>\n",
              "    </button>\n",
              "\n",
              "  <style>\n",
              "    .colab-df-container {\n",
              "      display:flex;\n",
              "      gap: 12px;\n",
              "    }\n",
              "\n",
              "    .colab-df-convert {\n",
              "      background-color: #E8F0FE;\n",
              "      border: none;\n",
              "      border-radius: 50%;\n",
              "      cursor: pointer;\n",
              "      display: none;\n",
              "      fill: #1967D2;\n",
              "      height: 32px;\n",
              "      padding: 0 0 0 0;\n",
              "      width: 32px;\n",
              "    }\n",
              "\n",
              "    .colab-df-convert:hover {\n",
              "      background-color: #E2EBFA;\n",
              "      box-shadow: 0px 1px 2px rgba(60, 64, 67, 0.3), 0px 1px 3px 1px rgba(60, 64, 67, 0.15);\n",
              "      fill: #174EA6;\n",
              "    }\n",
              "\n",
              "    .colab-df-buttons div {\n",
              "      margin-bottom: 4px;\n",
              "    }\n",
              "\n",
              "    [theme=dark] .colab-df-convert {\n",
              "      background-color: #3B4455;\n",
              "      fill: #D2E3FC;\n",
              "    }\n",
              "\n",
              "    [theme=dark] .colab-df-convert:hover {\n",
              "      background-color: #434B5C;\n",
              "      box-shadow: 0px 1px 3px 1px rgba(0, 0, 0, 0.15);\n",
              "      filter: drop-shadow(0px 1px 2px rgba(0, 0, 0, 0.3));\n",
              "      fill: #FFFFFF;\n",
              "    }\n",
              "  </style>\n",
              "\n",
              "    <script>\n",
              "      const buttonEl =\n",
              "        document.querySelector('#df-f23b2334-9f66-4cf1-8b25-19adcbba9f39 button.colab-df-convert');\n",
              "      buttonEl.style.display =\n",
              "        google.colab.kernel.accessAllowed ? 'block' : 'none';\n",
              "\n",
              "      async function convertToInteractive(key) {\n",
              "        const element = document.querySelector('#df-f23b2334-9f66-4cf1-8b25-19adcbba9f39');\n",
              "        const dataTable =\n",
              "          await google.colab.kernel.invokeFunction('convertToInteractive',\n",
              "                                                    [key], {});\n",
              "        if (!dataTable) return;\n",
              "\n",
              "        const docLinkHtml = 'Like what you see? Visit the ' +\n",
              "          '<a target=\"_blank\" href=https://colab.research.google.com/notebooks/data_table.ipynb>data table notebook</a>'\n",
              "          + ' to learn more about interactive tables.';\n",
              "        element.innerHTML = '';\n",
              "        dataTable['output_type'] = 'display_data';\n",
              "        await google.colab.output.renderOutput(dataTable, element);\n",
              "        const docLink = document.createElement('div');\n",
              "        docLink.innerHTML = docLinkHtml;\n",
              "        element.appendChild(docLink);\n",
              "      }\n",
              "    </script>\n",
              "  </div>\n",
              "\n",
              "\n",
              "<div id=\"df-96c7f50a-bdb9-46f5-a564-a74b7b8ba7fa\">\n",
              "  <button class=\"colab-df-quickchart\" onclick=\"quickchart('df-96c7f50a-bdb9-46f5-a564-a74b7b8ba7fa')\"\n",
              "            title=\"Suggest charts\"\n",
              "            style=\"display:none;\">\n",
              "\n",
              "<svg xmlns=\"http://www.w3.org/2000/svg\" height=\"24px\"viewBox=\"0 0 24 24\"\n",
              "     width=\"24px\">\n",
              "    <g>\n",
              "        <path d=\"M19 3H5c-1.1 0-2 .9-2 2v14c0 1.1.9 2 2 2h14c1.1 0 2-.9 2-2V5c0-1.1-.9-2-2-2zM9 17H7v-7h2v7zm4 0h-2V7h2v10zm4 0h-2v-4h2v4z\"/>\n",
              "    </g>\n",
              "</svg>\n",
              "  </button>\n",
              "\n",
              "<style>\n",
              "  .colab-df-quickchart {\n",
              "      --bg-color: #E8F0FE;\n",
              "      --fill-color: #1967D2;\n",
              "      --hover-bg-color: #E2EBFA;\n",
              "      --hover-fill-color: #174EA6;\n",
              "      --disabled-fill-color: #AAA;\n",
              "      --disabled-bg-color: #DDD;\n",
              "  }\n",
              "\n",
              "  [theme=dark] .colab-df-quickchart {\n",
              "      --bg-color: #3B4455;\n",
              "      --fill-color: #D2E3FC;\n",
              "      --hover-bg-color: #434B5C;\n",
              "      --hover-fill-color: #FFFFFF;\n",
              "      --disabled-bg-color: #3B4455;\n",
              "      --disabled-fill-color: #666;\n",
              "  }\n",
              "\n",
              "  .colab-df-quickchart {\n",
              "    background-color: var(--bg-color);\n",
              "    border: none;\n",
              "    border-radius: 50%;\n",
              "    cursor: pointer;\n",
              "    display: none;\n",
              "    fill: var(--fill-color);\n",
              "    height: 32px;\n",
              "    padding: 0;\n",
              "    width: 32px;\n",
              "  }\n",
              "\n",
              "  .colab-df-quickchart:hover {\n",
              "    background-color: var(--hover-bg-color);\n",
              "    box-shadow: 0 1px 2px rgba(60, 64, 67, 0.3), 0 1px 3px 1px rgba(60, 64, 67, 0.15);\n",
              "    fill: var(--button-hover-fill-color);\n",
              "  }\n",
              "\n",
              "  .colab-df-quickchart-complete:disabled,\n",
              "  .colab-df-quickchart-complete:disabled:hover {\n",
              "    background-color: var(--disabled-bg-color);\n",
              "    fill: var(--disabled-fill-color);\n",
              "    box-shadow: none;\n",
              "  }\n",
              "\n",
              "  .colab-df-spinner {\n",
              "    border: 2px solid var(--fill-color);\n",
              "    border-color: transparent;\n",
              "    border-bottom-color: var(--fill-color);\n",
              "    animation:\n",
              "      spin 1s steps(1) infinite;\n",
              "  }\n",
              "\n",
              "  @keyframes spin {\n",
              "    0% {\n",
              "      border-color: transparent;\n",
              "      border-bottom-color: var(--fill-color);\n",
              "      border-left-color: var(--fill-color);\n",
              "    }\n",
              "    20% {\n",
              "      border-color: transparent;\n",
              "      border-left-color: var(--fill-color);\n",
              "      border-top-color: var(--fill-color);\n",
              "    }\n",
              "    30% {\n",
              "      border-color: transparent;\n",
              "      border-left-color: var(--fill-color);\n",
              "      border-top-color: var(--fill-color);\n",
              "      border-right-color: var(--fill-color);\n",
              "    }\n",
              "    40% {\n",
              "      border-color: transparent;\n",
              "      border-right-color: var(--fill-color);\n",
              "      border-top-color: var(--fill-color);\n",
              "    }\n",
              "    60% {\n",
              "      border-color: transparent;\n",
              "      border-right-color: var(--fill-color);\n",
              "    }\n",
              "    80% {\n",
              "      border-color: transparent;\n",
              "      border-right-color: var(--fill-color);\n",
              "      border-bottom-color: var(--fill-color);\n",
              "    }\n",
              "    90% {\n",
              "      border-color: transparent;\n",
              "      border-bottom-color: var(--fill-color);\n",
              "    }\n",
              "  }\n",
              "</style>\n",
              "\n",
              "  <script>\n",
              "    async function quickchart(key) {\n",
              "      const quickchartButtonEl =\n",
              "        document.querySelector('#' + key + ' button');\n",
              "      quickchartButtonEl.disabled = true;  // To prevent multiple clicks.\n",
              "      quickchartButtonEl.classList.add('colab-df-spinner');\n",
              "      try {\n",
              "        const charts = await google.colab.kernel.invokeFunction(\n",
              "            'suggestCharts', [key], {});\n",
              "      } catch (error) {\n",
              "        console.error('Error during call to suggestCharts:', error);\n",
              "      }\n",
              "      quickchartButtonEl.classList.remove('colab-df-spinner');\n",
              "      quickchartButtonEl.classList.add('colab-df-quickchart-complete');\n",
              "    }\n",
              "    (() => {\n",
              "      let quickchartButtonEl =\n",
              "        document.querySelector('#df-96c7f50a-bdb9-46f5-a564-a74b7b8ba7fa button');\n",
              "      quickchartButtonEl.style.display =\n",
              "        google.colab.kernel.accessAllowed ? 'block' : 'none';\n",
              "    })();\n",
              "  </script>\n",
              "</div>\n",
              "\n",
              "    </div>\n",
              "  </div>\n"
            ],
            "application/vnd.google.colaboratory.intrinsic+json": {
              "type": "dataframe",
              "variable_name": "df"
            }
          },
          "metadata": {},
          "execution_count": 79
        }
      ]
    },
    {
      "cell_type": "code",
      "source": [],
      "metadata": {
        "id": "5d6tJvvoQBp9"
      },
      "execution_count": null,
      "outputs": []
    },
    {
      "cell_type": "code",
      "source": [
        "from sklearn.feature_extraction.text import CountVectorizer\n",
        "\n",
        "vectorizer = CountVectorizer(tokenizer=lambda x: x, lowercase=False)\n",
        "actions_matrix = vectorizer.fit_transform(df['actions'].apply(lambda x: [str(i) for i in x])).toarray()\n",
        "\n",
        "# Combine the `actions_matrix` with other numeric features (`execution_time` and `Amount`)\n",
        "X = np.hstack([actions_matrix, df[['execution_time', 'Amount','type']].values])\n",
        "y = df['is_fraud']"
      ],
      "metadata": {
        "colab": {
          "base_uri": "https://localhost:8080/"
        },
        "id": "fvVrbC56QBni",
        "outputId": "c957d994-c30a-4527-c463-6aa7b4ce6886"
      },
      "execution_count": null,
      "outputs": [
        {
          "output_type": "stream",
          "name": "stderr",
          "text": [
            "/usr/local/lib/python3.10/dist-packages/sklearn/feature_extraction/text.py:521: UserWarning: The parameter 'token_pattern' will not be used since 'tokenizer' is not None'\n",
            "  warnings.warn(\n"
          ]
        }
      ]
    },
    {
      "cell_type": "code",
      "source": [
        "X"
      ],
      "metadata": {
        "colab": {
          "base_uri": "https://localhost:8080/"
        },
        "id": "YsYqe53JQBkw",
        "outputId": "165d633b-dec3-406e-90cb-78debd922537"
      },
      "execution_count": null,
      "outputs": [
        {
          "output_type": "execute_result",
          "data": {
            "text/plain": [
              "array([[  23,   23,    0, ...,  203,   13,    1],\n",
              "       [2982, 2982,    4, ...,  359,  310,    2],\n",
              "       [ 222,  222,    6, ...,  250,  350,    1],\n",
              "       ...,\n",
              "       [ 106,  106,    0, ...,  265,    8,    1],\n",
              "       [  66,   66,    0, ...,  265,   70,    1],\n",
              "       [ 204,  204,    6, ...,  374,   10,    3]])"
            ]
          },
          "metadata": {},
          "execution_count": 81
        }
      ]
    },
    {
      "cell_type": "code",
      "source": [
        "X_train, X_test, y_train, y_test = train_test_split(X, y, test_size=0.2, random_state=42)"
      ],
      "metadata": {
        "id": "fvkPXOPaN1Hg"
      },
      "execution_count": null,
      "outputs": []
    },
    {
      "cell_type": "code",
      "source": [
        "y_train.value_counts()"
      ],
      "metadata": {
        "colab": {
          "base_uri": "https://localhost:8080/",
          "height": 178
        },
        "id": "wziK0HtbPMqu",
        "outputId": "939e8e20-a93d-4217-9bbf-873b2c7769fd"
      },
      "execution_count": null,
      "outputs": [
        {
          "output_type": "execute_result",
          "data": {
            "text/plain": [
              "is_fraud\n",
              "0    84157\n",
              "1       84\n",
              "Name: count, dtype: int64"
            ],
            "text/html": [
              "<div>\n",
              "<style scoped>\n",
              "    .dataframe tbody tr th:only-of-type {\n",
              "        vertical-align: middle;\n",
              "    }\n",
              "\n",
              "    .dataframe tbody tr th {\n",
              "        vertical-align: top;\n",
              "    }\n",
              "\n",
              "    .dataframe thead th {\n",
              "        text-align: right;\n",
              "    }\n",
              "</style>\n",
              "<table border=\"1\" class=\"dataframe\">\n",
              "  <thead>\n",
              "    <tr style=\"text-align: right;\">\n",
              "      <th></th>\n",
              "      <th>count</th>\n",
              "    </tr>\n",
              "    <tr>\n",
              "      <th>is_fraud</th>\n",
              "      <th></th>\n",
              "    </tr>\n",
              "  </thead>\n",
              "  <tbody>\n",
              "    <tr>\n",
              "      <th>0</th>\n",
              "      <td>84157</td>\n",
              "    </tr>\n",
              "    <tr>\n",
              "      <th>1</th>\n",
              "      <td>84</td>\n",
              "    </tr>\n",
              "  </tbody>\n",
              "</table>\n",
              "</div><br><label><b>dtype:</b> int64</label>"
            ]
          },
          "metadata": {},
          "execution_count": 83
        }
      ]
    },
    {
      "cell_type": "code",
      "source": [
        "smote = SMOTE(random_state=42)\n",
        "X_train_smote, y_train_smote = smote.fit_resample(X_train, y_train)"
      ],
      "metadata": {
        "id": "3jYRl6jmPUyQ"
      },
      "execution_count": null,
      "outputs": []
    },
    {
      "cell_type": "code",
      "source": [
        "y_train_smote.value_counts()"
      ],
      "metadata": {
        "colab": {
          "base_uri": "https://localhost:8080/",
          "height": 178
        },
        "id": "b_1CPB7OQs8_",
        "outputId": "dd8154dc-3145-48a8-8181-572b1be97c06"
      },
      "execution_count": null,
      "outputs": [
        {
          "output_type": "execute_result",
          "data": {
            "text/plain": [
              "is_fraud\n",
              "0    84157\n",
              "1    84157\n",
              "Name: count, dtype: int64"
            ],
            "text/html": [
              "<div>\n",
              "<style scoped>\n",
              "    .dataframe tbody tr th:only-of-type {\n",
              "        vertical-align: middle;\n",
              "    }\n",
              "\n",
              "    .dataframe tbody tr th {\n",
              "        vertical-align: top;\n",
              "    }\n",
              "\n",
              "    .dataframe thead th {\n",
              "        text-align: right;\n",
              "    }\n",
              "</style>\n",
              "<table border=\"1\" class=\"dataframe\">\n",
              "  <thead>\n",
              "    <tr style=\"text-align: right;\">\n",
              "      <th></th>\n",
              "      <th>count</th>\n",
              "    </tr>\n",
              "    <tr>\n",
              "      <th>is_fraud</th>\n",
              "      <th></th>\n",
              "    </tr>\n",
              "  </thead>\n",
              "  <tbody>\n",
              "    <tr>\n",
              "      <th>0</th>\n",
              "      <td>84157</td>\n",
              "    </tr>\n",
              "    <tr>\n",
              "      <th>1</th>\n",
              "      <td>84157</td>\n",
              "    </tr>\n",
              "  </tbody>\n",
              "</table>\n",
              "</div><br><label><b>dtype:</b> int64</label>"
            ]
          },
          "metadata": {},
          "execution_count": 85
        }
      ]
    },
    {
      "cell_type": "code",
      "source": [
        "print(X_train_smote.shape)"
      ],
      "metadata": {
        "colab": {
          "base_uri": "https://localhost:8080/"
        },
        "id": "eTwpD988OZ9I",
        "outputId": "999ca498-e9b3-4be8-ca91-07ad55b5686c"
      },
      "execution_count": null,
      "outputs": [
        {
          "output_type": "stream",
          "name": "stdout",
          "text": [
            "(168314, 17)\n"
          ]
        }
      ]
    },
    {
      "cell_type": "code",
      "source": [
        "X_train_smote"
      ],
      "metadata": {
        "colab": {
          "base_uri": "https://localhost:8080/"
        },
        "id": "Flv_fUjRSLWg",
        "outputId": "af8e5a1d-6853-49d5-cef4-5badc56b6aab"
      },
      "execution_count": null,
      "outputs": [
        {
          "output_type": "execute_result",
          "data": {
            "text/plain": [
              "array([[  10,   10,    2, ...,  782,  121,    1],\n",
              "       [  32,   32,    0, ...,  656,  472,    0],\n",
              "       [ 250,  250,    0, ...,  640,  300,    2],\n",
              "       ...,\n",
              "       [ 223,  223,   13, ...,  624, 3085,    0],\n",
              "       [ 145,  145,    2, ...,  534, 9000,    1],\n",
              "       [ 541,  541,    5, ...,  642, 9974,    0]])"
            ]
          },
          "metadata": {},
          "execution_count": 87
        }
      ]
    },
    {
      "cell_type": "code",
      "source": [
        "sm = SMOTE(random_state=42)\n",
        "X_test_smote, y_test_smote = smote.fit_resample(X_test, y_test)\n",
        "y_test_smote.value_counts()"
      ],
      "metadata": {
        "colab": {
          "base_uri": "https://localhost:8080/",
          "height": 178
        },
        "id": "zKZOZ0oE3dvP",
        "outputId": "85352b8e-93f6-41a6-cb1b-0b93b2519698"
      },
      "execution_count": null,
      "outputs": [
        {
          "output_type": "execute_result",
          "data": {
            "text/plain": [
              "is_fraud\n",
              "0    21044\n",
              "1    21044\n",
              "Name: count, dtype: int64"
            ],
            "text/html": [
              "<div>\n",
              "<style scoped>\n",
              "    .dataframe tbody tr th:only-of-type {\n",
              "        vertical-align: middle;\n",
              "    }\n",
              "\n",
              "    .dataframe tbody tr th {\n",
              "        vertical-align: top;\n",
              "    }\n",
              "\n",
              "    .dataframe thead th {\n",
              "        text-align: right;\n",
              "    }\n",
              "</style>\n",
              "<table border=\"1\" class=\"dataframe\">\n",
              "  <thead>\n",
              "    <tr style=\"text-align: right;\">\n",
              "      <th></th>\n",
              "      <th>count</th>\n",
              "    </tr>\n",
              "    <tr>\n",
              "      <th>is_fraud</th>\n",
              "      <th></th>\n",
              "    </tr>\n",
              "  </thead>\n",
              "  <tbody>\n",
              "    <tr>\n",
              "      <th>0</th>\n",
              "      <td>21044</td>\n",
              "    </tr>\n",
              "    <tr>\n",
              "      <th>1</th>\n",
              "      <td>21044</td>\n",
              "    </tr>\n",
              "  </tbody>\n",
              "</table>\n",
              "</div><br><label><b>dtype:</b> int64</label>"
            ]
          },
          "metadata": {},
          "execution_count": 88
        }
      ]
    },
    {
      "cell_type": "code",
      "source": [
        "\n",
        "import tensorflow as tf\n",
        "from tensorflow.keras.models import Sequential\n",
        "from tensorflow.keras.layers import Embedding, LSTM, Dense, Dropout\n",
        "\n",
        "num_features = X_train_smote.shape[1]\n",
        "X_train_smote_reshaped = X_train_smote.reshape(X_train_smote.shape[0], 1, num_features)\n",
        "X_test_reshaped = X_test_smote.reshape(X_test_smote.shape[0], 1, num_features)\n",
        "\n",
        "model = Sequential()\n",
        "model.add(LSTM(units=64, input_shape=(1, num_features), return_sequences=True))\n",
        "model.add(Dropout(0.2))\n",
        "model.add(LSTM(units=32))\n",
        "model.add(Dropout(0.2))\n",
        "model.add(Dense(units=1, activation='sigmoid'))\n",
        "\n",
        "model.compile(optimizer='adam', loss='binary_crossentropy', metrics=['accuracy'])\n",
        "\n",
        "model.fit(X_train_smote_reshaped, y_train_smote, epochs=10, batch_size=32, validation_split=0.1)"
      ],
      "metadata": {
        "colab": {
          "base_uri": "https://localhost:8080/"
        },
        "id": "coF28ht4sPC_",
        "outputId": "fce209ca-b59c-4fc7-e7ac-fcfb10951288"
      },
      "execution_count": null,
      "outputs": [
        {
          "output_type": "stream",
          "name": "stdout",
          "text": [
            "Epoch 1/10\n"
          ]
        },
        {
          "output_type": "stream",
          "name": "stderr",
          "text": [
            "/usr/local/lib/python3.10/dist-packages/keras/src/layers/rnn/rnn.py:204: UserWarning: Do not pass an `input_shape`/`input_dim` argument to a layer. When using Sequential models, prefer using an `Input(shape)` object as the first layer in the model instead.\n",
            "  super().__init__(**kwargs)\n"
          ]
        },
        {
          "output_type": "stream",
          "name": "stdout",
          "text": [
            "\u001b[1m4734/4734\u001b[0m \u001b[32m━━━━━━━━━━━━━━━━━━━━\u001b[0m\u001b[37m\u001b[0m \u001b[1m18s\u001b[0m 3ms/step - accuracy: 0.9398 - loss: 0.1850 - val_accuracy: 0.9769 - val_loss: 0.0995\n",
            "Epoch 2/10\n",
            "\u001b[1m4734/4734\u001b[0m \u001b[32m━━━━━━━━━━━━━━━━━━━━\u001b[0m\u001b[37m\u001b[0m \u001b[1m20s\u001b[0m 3ms/step - accuracy: 0.9566 - loss: 0.1312 - val_accuracy: 0.9955 - val_loss: 0.0434\n",
            "Epoch 3/10\n",
            "\u001b[1m4734/4734\u001b[0m \u001b[32m━━━━━━━━━━━━━━━━━━━━\u001b[0m\u001b[37m\u001b[0m \u001b[1m15s\u001b[0m 3ms/step - accuracy: 0.9671 - loss: 0.1055 - val_accuracy: 0.9521 - val_loss: 0.1314\n",
            "Epoch 4/10\n",
            "\u001b[1m4734/4734\u001b[0m \u001b[32m━━━━━━━━━━━━━━━━━━━━\u001b[0m\u001b[37m\u001b[0m \u001b[1m21s\u001b[0m 3ms/step - accuracy: 0.9679 - loss: 0.1028 - val_accuracy: 0.9995 - val_loss: 0.0496\n",
            "Epoch 5/10\n",
            "\u001b[1m4734/4734\u001b[0m \u001b[32m━━━━━━━━━━━━━━━━━━━━\u001b[0m\u001b[37m\u001b[0m \u001b[1m20s\u001b[0m 3ms/step - accuracy: 0.9699 - loss: 0.0982 - val_accuracy: 0.9963 - val_loss: 0.0420\n",
            "Epoch 6/10\n",
            "\u001b[1m4734/4734\u001b[0m \u001b[32m━━━━━━━━━━━━━━━━━━━━\u001b[0m\u001b[37m\u001b[0m \u001b[1m21s\u001b[0m 3ms/step - accuracy: 0.9710 - loss: 0.0961 - val_accuracy: 1.0000 - val_loss: 0.0436\n",
            "Epoch 7/10\n",
            "\u001b[1m4734/4734\u001b[0m \u001b[32m━━━━━━━━━━━━━━━━━━━━\u001b[0m\u001b[37m\u001b[0m \u001b[1m16s\u001b[0m 3ms/step - accuracy: 0.9697 - loss: 0.0999 - val_accuracy: 0.9969 - val_loss: 0.0463\n",
            "Epoch 8/10\n",
            "\u001b[1m4734/4734\u001b[0m \u001b[32m━━━━━━━━━━━━━━━━━━━━\u001b[0m\u001b[37m\u001b[0m \u001b[1m20s\u001b[0m 3ms/step - accuracy: 0.9742 - loss: 0.0894 - val_accuracy: 0.9682 - val_loss: 0.0932\n",
            "Epoch 9/10\n",
            "\u001b[1m4734/4734\u001b[0m \u001b[32m━━━━━━━━━━━━━━━━━━━━\u001b[0m\u001b[37m\u001b[0m \u001b[1m21s\u001b[0m 3ms/step - accuracy: 0.9748 - loss: 0.0887 - val_accuracy: 0.9977 - val_loss: 0.0390\n",
            "Epoch 10/10\n",
            "\u001b[1m4734/4734\u001b[0m \u001b[32m━━━━━━━━━━━━━━━━━━━━\u001b[0m\u001b[37m\u001b[0m \u001b[1m22s\u001b[0m 3ms/step - accuracy: 0.9730 - loss: 0.0936 - val_accuracy: 0.9958 - val_loss: 0.0453\n"
          ]
        },
        {
          "output_type": "execute_result",
          "data": {
            "text/plain": [
              "<keras.src.callbacks.history.History at 0x7fd4bb5fec80>"
            ]
          },
          "metadata": {},
          "execution_count": 89
        }
      ]
    },
    {
      "cell_type": "code",
      "source": [
        "from sklearn.metrics import accuracy_score, classification_report\n",
        "\n",
        "y_pred = (model.predict(X_test_reshaped) > 0.5).astype(\"int32\")\n",
        "accuracy = accuracy_score(y_test_smote, y_pred)\n",
        "print(\"Accuracy:\", accuracy)\n",
        "print(classification_report(y_test_smote, y_pred))"
      ],
      "metadata": {
        "colab": {
          "base_uri": "https://localhost:8080/"
        },
        "id": "A_WTUukqti5G",
        "outputId": "126892b9-986f-4309-d184-5b920dfacb23"
      },
      "execution_count": null,
      "outputs": [
        {
          "output_type": "stream",
          "name": "stdout",
          "text": [
            "\u001b[1m1316/1316\u001b[0m \u001b[32m━━━━━━━━━━━━━━━━━━━━\u001b[0m\u001b[37m\u001b[0m \u001b[1m3s\u001b[0m 2ms/step\n",
            "Accuracy: 0.9847462459608439\n",
            "              precision    recall  f1-score   support\n",
            "\n",
            "           0       1.00      0.97      0.98     21044\n",
            "           1       0.97      1.00      0.98     21044\n",
            "\n",
            "    accuracy                           0.98     42088\n",
            "   macro avg       0.99      0.98      0.98     42088\n",
            "weighted avg       0.99      0.98      0.98     42088\n",
            "\n"
          ]
        }
      ]
    },
    {
      "cell_type": "code",
      "source": [
        "y_pred_ = (model.predict(X_train_smote_reshaped) > 0.5).astype(\"int32\")  # Predictions on training data\n",
        "accuracy_ = accuracy_score(y_train_smote, y_pred_)                      # Compare with training labels\n",
        "print(\"Accuracy:\", accuracy_)\n",
        "print(classification_report(y_train_smote, y_pred_))"
      ],
      "metadata": {
        "colab": {
          "base_uri": "https://localhost:8080/"
        },
        "id": "56rFLZA-4B0S",
        "outputId": "6846db7d-5f41-465c-cbce-d63dc0a00213"
      },
      "execution_count": null,
      "outputs": [
        {
          "output_type": "stream",
          "name": "stdout",
          "text": [
            "\u001b[1m5260/5260\u001b[0m \u001b[32m━━━━━━━━━━━━━━━━━━━━\u001b[0m\u001b[37m\u001b[0m \u001b[1m8s\u001b[0m 1ms/step\n",
            "Accuracy: 0.9829069477286501\n",
            "              precision    recall  f1-score   support\n",
            "\n",
            "           0       1.00      0.97      0.98     84157\n",
            "           1       0.97      1.00      0.98     84157\n",
            "\n",
            "    accuracy                           0.98    168314\n",
            "   macro avg       0.98      0.98      0.98    168314\n",
            "weighted avg       0.98      0.98      0.98    168314\n",
            "\n"
          ]
        }
      ]
    },
    {
      "cell_type": "code",
      "source": [
        "df.iloc[0]"
      ],
      "metadata": {
        "id": "JtqUJKsN7bV7",
        "outputId": "86556140-b5f8-43e8-eb84-eeec26d6205c",
        "colab": {
          "base_uri": "https://localhost:8080/",
          "height": 272
        }
      },
      "execution_count": null,
      "outputs": [
        {
          "output_type": "execute_result",
          "data": {
            "text/plain": [
              "actions_str       /PROFILE/GETCUSTOMERRESPONSE /TAXFREE/GETTAXGO...\n",
              "actions           [22, 27, 24, 1, 1268, 1269, 1267, 22, 29, 1, 2...\n",
              "execution_time                                                  203\n",
              "Amount                                                           13\n",
              "type                                                              1\n",
              "is_fraud                                                          0\n",
              "Name: 0, dtype: object"
            ],
            "text/html": [
              "<div>\n",
              "<style scoped>\n",
              "    .dataframe tbody tr th:only-of-type {\n",
              "        vertical-align: middle;\n",
              "    }\n",
              "\n",
              "    .dataframe tbody tr th {\n",
              "        vertical-align: top;\n",
              "    }\n",
              "\n",
              "    .dataframe thead th {\n",
              "        text-align: right;\n",
              "    }\n",
              "</style>\n",
              "<table border=\"1\" class=\"dataframe\">\n",
              "  <thead>\n",
              "    <tr style=\"text-align: right;\">\n",
              "      <th></th>\n",
              "      <th>0</th>\n",
              "    </tr>\n",
              "  </thead>\n",
              "  <tbody>\n",
              "    <tr>\n",
              "      <th>actions_str</th>\n",
              "      <td>/PROFILE/GETCUSTOMERRESPONSE /TAXFREE/GETTAXGO...</td>\n",
              "    </tr>\n",
              "    <tr>\n",
              "      <th>actions</th>\n",
              "      <td>[22, 27, 24, 1, 1268, 1269, 1267, 22, 29, 1, 2...</td>\n",
              "    </tr>\n",
              "    <tr>\n",
              "      <th>execution_time</th>\n",
              "      <td>203</td>\n",
              "    </tr>\n",
              "    <tr>\n",
              "      <th>Amount</th>\n",
              "      <td>13</td>\n",
              "    </tr>\n",
              "    <tr>\n",
              "      <th>type</th>\n",
              "      <td>1</td>\n",
              "    </tr>\n",
              "    <tr>\n",
              "      <th>is_fraud</th>\n",
              "      <td>0</td>\n",
              "    </tr>\n",
              "  </tbody>\n",
              "</table>\n",
              "</div><br><label><b>dtype:</b> object</label>"
            ]
          },
          "metadata": {},
          "execution_count": 92
        }
      ]
    },
    {
      "cell_type": "code",
      "source": [
        "new_instance = df.iloc[0]\n",
        "new_instance.drop(['is_fraud', 'actions_str'], inplace=True)\n",
        "new_instance"
      ],
      "metadata": {
        "colab": {
          "base_uri": "https://localhost:8080/",
          "height": 300
        },
        "id": "dKt9eCiG5sbp",
        "outputId": "df27fb3b-510c-4743-b8a0-73017efd5dc2"
      },
      "execution_count": null,
      "outputs": [
        {
          "output_type": "stream",
          "name": "stderr",
          "text": [
            "<ipython-input-93-eb81cb4a999c>:2: SettingWithCopyWarning: \n",
            "A value is trying to be set on a copy of a slice from a DataFrame\n",
            "\n",
            "See the caveats in the documentation: https://pandas.pydata.org/pandas-docs/stable/user_guide/indexing.html#returning-a-view-versus-a-copy\n",
            "  new_instance.drop(['is_fraud', 'actions_str'], inplace=True)\n"
          ]
        },
        {
          "output_type": "execute_result",
          "data": {
            "text/plain": [
              "actions           [22, 27, 24, 1, 1268, 1269, 1267, 22, 29, 1, 2...\n",
              "execution_time                                                  203\n",
              "Amount                                                           13\n",
              "type                                                              1\n",
              "Name: 0, dtype: object"
            ],
            "text/html": [
              "<div>\n",
              "<style scoped>\n",
              "    .dataframe tbody tr th:only-of-type {\n",
              "        vertical-align: middle;\n",
              "    }\n",
              "\n",
              "    .dataframe tbody tr th {\n",
              "        vertical-align: top;\n",
              "    }\n",
              "\n",
              "    .dataframe thead th {\n",
              "        text-align: right;\n",
              "    }\n",
              "</style>\n",
              "<table border=\"1\" class=\"dataframe\">\n",
              "  <thead>\n",
              "    <tr style=\"text-align: right;\">\n",
              "      <th></th>\n",
              "      <th>0</th>\n",
              "    </tr>\n",
              "  </thead>\n",
              "  <tbody>\n",
              "    <tr>\n",
              "      <th>actions</th>\n",
              "      <td>[22, 27, 24, 1, 1268, 1269, 1267, 22, 29, 1, 2...</td>\n",
              "    </tr>\n",
              "    <tr>\n",
              "      <th>execution_time</th>\n",
              "      <td>203</td>\n",
              "    </tr>\n",
              "    <tr>\n",
              "      <th>Amount</th>\n",
              "      <td>13</td>\n",
              "    </tr>\n",
              "    <tr>\n",
              "      <th>type</th>\n",
              "      <td>1</td>\n",
              "    </tr>\n",
              "  </tbody>\n",
              "</table>\n",
              "</div><br><label><b>dtype:</b> object</label>"
            ]
          },
          "metadata": {},
          "execution_count": 93
        }
      ]
    },
    {
      "cell_type": "code",
      "source": [
        "new_actions_matrix = vectorizer.transform([new_instance['actions']]).toarray()\n",
        "new_instance_features = np.hstack([new_actions_matrix, [[new_instance['execution_time'], new_instance['Amount'], new_instance['type']]]])\n",
        "new_instance_reshaped = new_instance_features.reshape(1, 1, new_instance_features.shape[1])\n",
        "fraud_probability = model.predict(new_instance_reshaped)[0][0]\n",
        "\n",
        "threshold = 0.5\n",
        "if fraud_probability > threshold:\n",
        "    output = 1  # Fraud\n",
        "else:\n",
        "    output = 0  # Not fraud\n",
        "\n",
        "print(\"Output:\", output)"
      ],
      "metadata": {
        "colab": {
          "base_uri": "https://localhost:8080/"
        },
        "id": "3WVoUfdWpuha",
        "outputId": "5bb8fba8-0438-468c-b186-6746d7d1e0bc"
      },
      "execution_count": null,
      "outputs": [
        {
          "output_type": "stream",
          "name": "stdout",
          "text": [
            "\u001b[1m1/1\u001b[0m \u001b[32m━━━━━━━━━━━━━━━━━━━━\u001b[0m\u001b[37m\u001b[0m \u001b[1m0s\u001b[0m 26ms/step\n",
            "Output: 0\n"
          ]
        }
      ]
    },
    {
      "cell_type": "code",
      "source": [
        "df.iloc[4]"
      ],
      "metadata": {
        "colab": {
          "base_uri": "https://localhost:8080/",
          "height": 272
        },
        "id": "z69XWH2Npubj",
        "outputId": "c039c39d-45a4-4cd3-c286-21ac91bf7ddb"
      },
      "execution_count": null,
      "outputs": [
        {
          "output_type": "execute_result",
          "data": {
            "text/plain": [
              "actions_str       /PROFILE/GETCUSTOMERRESPONSE /CAMPAIGN/GETBALA...\n",
              "actions           [22, 24, 27, 23, 2, 1269, 1269, 6, 25, 7, 28, ...\n",
              "execution_time                                                  593\n",
              "Amount                                                         2000\n",
              "type                                                              0\n",
              "is_fraud                                                          1\n",
              "Name: 4, dtype: object"
            ],
            "text/html": [
              "<div>\n",
              "<style scoped>\n",
              "    .dataframe tbody tr th:only-of-type {\n",
              "        vertical-align: middle;\n",
              "    }\n",
              "\n",
              "    .dataframe tbody tr th {\n",
              "        vertical-align: top;\n",
              "    }\n",
              "\n",
              "    .dataframe thead th {\n",
              "        text-align: right;\n",
              "    }\n",
              "</style>\n",
              "<table border=\"1\" class=\"dataframe\">\n",
              "  <thead>\n",
              "    <tr style=\"text-align: right;\">\n",
              "      <th></th>\n",
              "      <th>4</th>\n",
              "    </tr>\n",
              "  </thead>\n",
              "  <tbody>\n",
              "    <tr>\n",
              "      <th>actions_str</th>\n",
              "      <td>/PROFILE/GETCUSTOMERRESPONSE /CAMPAIGN/GETBALA...</td>\n",
              "    </tr>\n",
              "    <tr>\n",
              "      <th>actions</th>\n",
              "      <td>[22, 24, 27, 23, 2, 1269, 1269, 6, 25, 7, 28, ...</td>\n",
              "    </tr>\n",
              "    <tr>\n",
              "      <th>execution_time</th>\n",
              "      <td>593</td>\n",
              "    </tr>\n",
              "    <tr>\n",
              "      <th>Amount</th>\n",
              "      <td>2000</td>\n",
              "    </tr>\n",
              "    <tr>\n",
              "      <th>type</th>\n",
              "      <td>0</td>\n",
              "    </tr>\n",
              "    <tr>\n",
              "      <th>is_fraud</th>\n",
              "      <td>1</td>\n",
              "    </tr>\n",
              "  </tbody>\n",
              "</table>\n",
              "</div><br><label><b>dtype:</b> object</label>"
            ]
          },
          "metadata": {},
          "execution_count": 95
        }
      ]
    },
    {
      "cell_type": "code",
      "source": [
        "new_inst = df.iloc[4]\n",
        "new_inst.drop(['is_fraud', 'actions_str'], inplace=True)\n",
        "new_inst"
      ],
      "metadata": {
        "colab": {
          "base_uri": "https://localhost:8080/",
          "height": 300
        },
        "id": "kbNWGkFLpuY0",
        "outputId": "07e0474b-a092-4911-ecaa-0c6dfae0731a"
      },
      "execution_count": null,
      "outputs": [
        {
          "output_type": "stream",
          "name": "stderr",
          "text": [
            "<ipython-input-96-8e79a8f3bc42>:2: SettingWithCopyWarning: \n",
            "A value is trying to be set on a copy of a slice from a DataFrame\n",
            "\n",
            "See the caveats in the documentation: https://pandas.pydata.org/pandas-docs/stable/user_guide/indexing.html#returning-a-view-versus-a-copy\n",
            "  new_inst.drop(['is_fraud', 'actions_str'], inplace=True)\n"
          ]
        },
        {
          "output_type": "execute_result",
          "data": {
            "text/plain": [
              "actions           [22, 24, 27, 23, 2, 1269, 1269, 6, 25, 7, 28, ...\n",
              "execution_time                                                  593\n",
              "Amount                                                         2000\n",
              "type                                                              0\n",
              "Name: 4, dtype: object"
            ],
            "text/html": [
              "<div>\n",
              "<style scoped>\n",
              "    .dataframe tbody tr th:only-of-type {\n",
              "        vertical-align: middle;\n",
              "    }\n",
              "\n",
              "    .dataframe tbody tr th {\n",
              "        vertical-align: top;\n",
              "    }\n",
              "\n",
              "    .dataframe thead th {\n",
              "        text-align: right;\n",
              "    }\n",
              "</style>\n",
              "<table border=\"1\" class=\"dataframe\">\n",
              "  <thead>\n",
              "    <tr style=\"text-align: right;\">\n",
              "      <th></th>\n",
              "      <th>4</th>\n",
              "    </tr>\n",
              "  </thead>\n",
              "  <tbody>\n",
              "    <tr>\n",
              "      <th>actions</th>\n",
              "      <td>[22, 24, 27, 23, 2, 1269, 1269, 6, 25, 7, 28, ...</td>\n",
              "    </tr>\n",
              "    <tr>\n",
              "      <th>execution_time</th>\n",
              "      <td>593</td>\n",
              "    </tr>\n",
              "    <tr>\n",
              "      <th>Amount</th>\n",
              "      <td>2000</td>\n",
              "    </tr>\n",
              "    <tr>\n",
              "      <th>type</th>\n",
              "      <td>0</td>\n",
              "    </tr>\n",
              "  </tbody>\n",
              "</table>\n",
              "</div><br><label><b>dtype:</b> object</label>"
            ]
          },
          "metadata": {},
          "execution_count": 96
        }
      ]
    },
    {
      "cell_type": "code",
      "source": [
        "new_actions_matrix = vectorizer.transform([new_inst['actions']]).toarray()\n",
        "new_instance_features = np.hstack([new_actions_matrix, [[new_inst['execution_time'], new_inst['Amount'], new_inst['type']]]])\n",
        "new_instance_reshaped = new_instance_features.reshape(1, 1, new_instance_features.shape[1])\n",
        "fraud_probability = model.predict(new_instance_reshaped)[0][0]\n",
        "\n",
        "threshold = 0.5\n",
        "if fraud_probability > threshold:\n",
        "    output = 1  # Fraud\n",
        "else:\n",
        "    output = 0  # Not fraud\n",
        "\n",
        "print(\"Output:\", output)"
      ],
      "metadata": {
        "colab": {
          "base_uri": "https://localhost:8080/"
        },
        "id": "uQzKS9ynpvvz",
        "outputId": "c14d0b10-08e2-4daf-f0be-971ef96fa165"
      },
      "execution_count": null,
      "outputs": [
        {
          "output_type": "stream",
          "name": "stdout",
          "text": [
            "\u001b[1m1/1\u001b[0m \u001b[32m━━━━━━━━━━━━━━━━━━━━\u001b[0m\u001b[37m\u001b[0m \u001b[1m0s\u001b[0m 34ms/step\n",
            "Output: 1\n"
          ]
        }
      ]
    },
    {
      "cell_type": "code",
      "source": [
        "#GRU"
      ],
      "metadata": {
        "id": "QJiRKOug6cd_"
      },
      "execution_count": null,
      "outputs": []
    },
    {
      "cell_type": "code",
      "source": [
        "import tensorflow as tf\n",
        "from tensorflow.keras.models import Sequential\n",
        "from tensorflow.keras.layers import GRU, Dense, Dropout\n",
        "\n",
        "num_features = X_train_smote.shape[1]\n",
        "X_train_smote_reshaped = X_train_smote.reshape(X_train_smote.shape[0], 1, num_features)\n",
        "X_test_reshaped = X_test_smote.reshape(X_test_smote.shape[0], 1, num_features)\n",
        "\n",
        "model = Sequential()\n",
        "model.add(GRU(units=64, input_shape=(1, num_features), return_sequences=True))\n",
        "model.add(Dropout(0.2))\n",
        "model.add(GRU(units=32))\n",
        "model.add(Dropout(0.2))\n",
        "model.add(Dense(units=1, activation='sigmoid'))\n",
        "\n",
        "model.compile(optimizer='adam', loss='binary_crossentropy', metrics=['accuracy'])\n",
        "\n",
        "model.fit(X_train_smote_reshaped, y_train_smote, epochs=10, batch_size=32, validation_split=0.1)"
      ],
      "metadata": {
        "id": "mG--z4637J_5",
        "outputId": "f89c5ed8-f5d3-43c5-eef8-232cb9d47e56",
        "colab": {
          "base_uri": "https://localhost:8080/"
        }
      },
      "execution_count": null,
      "outputs": [
        {
          "output_type": "stream",
          "name": "stderr",
          "text": [
            "/usr/local/lib/python3.10/dist-packages/keras/src/layers/rnn/rnn.py:204: UserWarning: Do not pass an `input_shape`/`input_dim` argument to a layer. When using Sequential models, prefer using an `Input(shape)` object as the first layer in the model instead.\n",
            "  super().__init__(**kwargs)\n"
          ]
        },
        {
          "output_type": "stream",
          "name": "stdout",
          "text": [
            "Epoch 1/10\n",
            "\u001b[1m4734/4734\u001b[0m \u001b[32m━━━━━━━━━━━━━━━━━━━━\u001b[0m\u001b[37m\u001b[0m \u001b[1m21s\u001b[0m 4ms/step - accuracy: 0.9365 - loss: 0.1736 - val_accuracy: 0.9619 - val_loss: 0.1553\n",
            "Epoch 2/10\n",
            "\u001b[1m4734/4734\u001b[0m \u001b[32m━━━━━━━━━━━━━━━━━━━━\u001b[0m\u001b[37m\u001b[0m \u001b[1m20s\u001b[0m 3ms/step - accuracy: 0.9583 - loss: 0.1238 - val_accuracy: 0.9949 - val_loss: 0.0500\n",
            "Epoch 3/10\n",
            "\u001b[1m4734/4734\u001b[0m \u001b[32m━━━━━━━━━━━━━━━━━━━━\u001b[0m\u001b[37m\u001b[0m \u001b[1m23s\u001b[0m 4ms/step - accuracy: 0.9692 - loss: 0.1008 - val_accuracy: 0.9997 - val_loss: 0.0558\n",
            "Epoch 4/10\n",
            "\u001b[1m4734/4734\u001b[0m \u001b[32m━━━━━━━━━━━━━━━━━━━━\u001b[0m\u001b[37m\u001b[0m \u001b[1m18s\u001b[0m 3ms/step - accuracy: 0.9681 - loss: 0.1036 - val_accuracy: 0.9874 - val_loss: 0.0652\n",
            "Epoch 5/10\n",
            "\u001b[1m4734/4734\u001b[0m \u001b[32m━━━━━━━━━━━━━━━━━━━━\u001b[0m\u001b[37m\u001b[0m \u001b[1m16s\u001b[0m 3ms/step - accuracy: 0.9731 - loss: 0.0905 - val_accuracy: 0.9996 - val_loss: 0.0423\n",
            "Epoch 6/10\n",
            "\u001b[1m4734/4734\u001b[0m \u001b[32m━━━━━━━━━━━━━━━━━━━━\u001b[0m\u001b[37m\u001b[0m \u001b[1m17s\u001b[0m 4ms/step - accuracy: 0.9717 - loss: 0.0955 - val_accuracy: 0.9996 - val_loss: 0.0363\n",
            "Epoch 7/10\n",
            "\u001b[1m4734/4734\u001b[0m \u001b[32m━━━━━━━━━━━━━━━━━━━━\u001b[0m\u001b[37m\u001b[0m \u001b[1m20s\u001b[0m 3ms/step - accuracy: 0.9769 - loss: 0.0830 - val_accuracy: 0.9994 - val_loss: 0.0245\n",
            "Epoch 8/10\n",
            "\u001b[1m4734/4734\u001b[0m \u001b[32m━━━━━━━━━━━━━━━━━━━━\u001b[0m\u001b[37m\u001b[0m \u001b[1m16s\u001b[0m 3ms/step - accuracy: 0.9771 - loss: 0.0829 - val_accuracy: 0.9884 - val_loss: 0.1122\n",
            "Epoch 9/10\n",
            "\u001b[1m4734/4734\u001b[0m \u001b[32m━━━━━━━━━━━━━━━━━━━━\u001b[0m\u001b[37m\u001b[0m \u001b[1m21s\u001b[0m 3ms/step - accuracy: 0.9741 - loss: 0.0903 - val_accuracy: 1.0000 - val_loss: 0.0302\n",
            "Epoch 10/10\n",
            "\u001b[1m4734/4734\u001b[0m \u001b[32m━━━━━━━━━━━━━━━━━━━━\u001b[0m\u001b[37m\u001b[0m \u001b[1m21s\u001b[0m 3ms/step - accuracy: 0.9739 - loss: 0.0871 - val_accuracy: 1.0000 - val_loss: 0.0333\n"
          ]
        },
        {
          "output_type": "execute_result",
          "data": {
            "text/plain": [
              "<keras.src.callbacks.history.History at 0x7fd4b8565ff0>"
            ]
          },
          "metadata": {},
          "execution_count": 99
        }
      ]
    },
    {
      "cell_type": "code",
      "source": [
        "y_pred_probs = model.predict(X_test_reshaped)\n",
        "y_pred = (y_pred_probs > 0.5).astype(\"int32\")\n",
        "\n",
        "# Reshape y_pred to match y_test_smote\n",
        "y_pred = y_pred.reshape(y_test_smote.shape) # Reshape to match y_test_smote\n",
        "\n",
        "# Check and potentially fix data types\n",
        "y_test_smote = y_test_smote.astype(int)  # Ensure y_test_smote is of type int\n",
        "y_pred = y_pred.astype(int)  # Ensure y_pred is of type int\n",
        "\n",
        "accuracy = accuracy_score(y_test_smote, y_pred)\n",
        "print(\"Accuracy:\", accuracy)\n",
        "print(classification_report(y_test_smote, y_pred))"
      ],
      "metadata": {
        "id": "Xbj4M4HQy4Mg",
        "outputId": "f5464c60-74cb-445f-b6c4-8117a8f98f2b",
        "colab": {
          "base_uri": "https://localhost:8080/"
        }
      },
      "execution_count": null,
      "outputs": [
        {
          "output_type": "stream",
          "name": "stdout",
          "text": [
            "\u001b[1m1316/1316\u001b[0m \u001b[32m━━━━━━━━━━━━━━━━━━━━\u001b[0m\u001b[37m\u001b[0m \u001b[1m2s\u001b[0m 2ms/step\n",
            "Accuracy: 0.9831305835392511\n",
            "              precision    recall  f1-score   support\n",
            "\n",
            "           0       1.00      0.97      0.98     21044\n",
            "           1       0.97      1.00      0.98     21044\n",
            "\n",
            "    accuracy                           0.98     42088\n",
            "   macro avg       0.98      0.98      0.98     42088\n",
            "weighted avg       0.98      0.98      0.98     42088\n",
            "\n"
          ]
        }
      ]
    },
    {
      "cell_type": "code",
      "source": [
        "y_pred_probs = model.predict(X_train_smote_reshaped)\n",
        "y_pred = (y_pred_probs > 0.5).astype(\"int32\")\n",
        "\n",
        "# Reshape y_pred to match y_test_smote\n",
        "y_pred = y_pred.reshape(y_train_smote.shape) # Reshape to match y_test_smote\n",
        "\n",
        "# Check and potentially fix data types\n",
        "y_train_smote = y_train_smote.astype(int)  # Ensure y_test_smote is of type int\n",
        "y_pred = y_pred.astype(int)  # Ensure y_pred is of type int\n",
        "\n",
        "accuracy = accuracy_score(y_train_smote, y_pred)\n",
        "print(\"Accuracy:\", accuracy)\n",
        "print(classification_report(y_train_smote, y_pred))"
      ],
      "metadata": {
        "id": "xmqPMI_e2qqy",
        "outputId": "0329736a-154a-4237-f717-c0535ede5743",
        "colab": {
          "base_uri": "https://localhost:8080/"
        }
      },
      "execution_count": null,
      "outputs": [
        {
          "output_type": "stream",
          "name": "stdout",
          "text": [
            "\u001b[1m5260/5260\u001b[0m \u001b[32m━━━━━━━━━━━━━━━━━━━━\u001b[0m\u001b[37m\u001b[0m \u001b[1m10s\u001b[0m 2ms/step\n",
            "Accuracy: 0.9850755136233469\n",
            "              precision    recall  f1-score   support\n",
            "\n",
            "           0       1.00      0.97      0.98     84157\n",
            "           1       0.97      1.00      0.99     84157\n",
            "\n",
            "    accuracy                           0.99    168314\n",
            "   macro avg       0.99      0.99      0.99    168314\n",
            "weighted avg       0.99      0.99      0.99    168314\n",
            "\n"
          ]
        }
      ]
    },
    {
      "cell_type": "code",
      "source": [
        "#Fully Connected Neural Network (FCNN)"
      ],
      "metadata": {
        "id": "xcHkav_Kl_wJ"
      },
      "execution_count": null,
      "outputs": []
    },
    {
      "cell_type": "code",
      "source": [
        "\n",
        "model = Sequential()\n",
        "model.add(Dense(units=128, input_shape=(1, num_features), activation='relu'))\n",
        "model.add(Dropout(0.2))\n",
        "model.add(Dense(units=64, activation='relu'))\n",
        "model.add(Dropout(0.2))\n",
        "model.add(Dense(units=1, activation='sigmoid'))\n",
        "\n",
        "model.compile(optimizer='adam', loss='binary_crossentropy', metrics=['accuracy'])\n",
        "\n",
        "model.fit(X_train_smote_reshaped, y_train_smote, epochs=10, batch_size=32, validation_split=0.1)"
      ],
      "metadata": {
        "id": "DsJNJRu1mAQK",
        "outputId": "74ebe292-568f-4953-8fe9-b46292ffe628",
        "colab": {
          "base_uri": "https://localhost:8080/"
        }
      },
      "execution_count": null,
      "outputs": [
        {
          "output_type": "stream",
          "name": "stdout",
          "text": [
            "Epoch 1/10\n"
          ]
        },
        {
          "output_type": "stream",
          "name": "stderr",
          "text": [
            "/usr/local/lib/python3.10/dist-packages/keras/src/layers/core/dense.py:87: UserWarning: Do not pass an `input_shape`/`input_dim` argument to a layer. When using Sequential models, prefer using an `Input(shape)` object as the first layer in the model instead.\n",
            "  super().__init__(activity_regularizer=activity_regularizer, **kwargs)\n"
          ]
        },
        {
          "output_type": "stream",
          "name": "stdout",
          "text": [
            "\u001b[1m4734/4734\u001b[0m \u001b[32m━━━━━━━━━━━━━━━━━━━━\u001b[0m\u001b[37m\u001b[0m \u001b[1m14s\u001b[0m 3ms/step - accuracy: 0.9221 - loss: 1.2201 - val_accuracy: 0.9406 - val_loss: 0.9552\n",
            "Epoch 2/10\n",
            "\u001b[1m4734/4734\u001b[0m \u001b[32m━━━━━━━━━━━━━━━━━━━━\u001b[0m\u001b[37m\u001b[0m \u001b[1m21s\u001b[0m 3ms/step - accuracy: 0.9296 - loss: 1.1232 - val_accuracy: 0.9354 - val_loss: 1.0401\n",
            "Epoch 3/10\n",
            "\u001b[1m4734/4734\u001b[0m \u001b[32m━━━━━━━━━━━━━━━━━━━━\u001b[0m\u001b[37m\u001b[0m \u001b[1m13s\u001b[0m 3ms/step - accuracy: 0.9290 - loss: 1.1371 - val_accuracy: 0.9130 - val_loss: 1.3997\n",
            "Epoch 4/10\n",
            "\u001b[1m4734/4734\u001b[0m \u001b[32m━━━━━━━━━━━━━━━━━━━━\u001b[0m\u001b[37m\u001b[0m \u001b[1m13s\u001b[0m 3ms/step - accuracy: 0.9303 - loss: 1.1164 - val_accuracy: 0.9380 - val_loss: 0.9997\n",
            "Epoch 5/10\n",
            "\u001b[1m4734/4734\u001b[0m \u001b[32m━━━━━━━━━━━━━━━━━━━━\u001b[0m\u001b[37m\u001b[0m \u001b[1m20s\u001b[0m 3ms/step - accuracy: 0.9341 - loss: 1.0553 - val_accuracy: 0.9162 - val_loss: 1.3509\n",
            "Epoch 6/10\n",
            "\u001b[1m4734/4734\u001b[0m \u001b[32m━━━━━━━━━━━━━━━━━━━━\u001b[0m\u001b[37m\u001b[0m \u001b[1m13s\u001b[0m 3ms/step - accuracy: 0.9347 - loss: 1.0445 - val_accuracy: 0.9184 - val_loss: 1.3117\n",
            "Epoch 7/10\n",
            "\u001b[1m4734/4734\u001b[0m \u001b[32m━━━━━━━━━━━━━━━━━━━━\u001b[0m\u001b[37m\u001b[0m \u001b[1m13s\u001b[0m 3ms/step - accuracy: 0.9290 - loss: 1.1382 - val_accuracy: 0.9354 - val_loss: 1.0419\n",
            "Epoch 8/10\n",
            "\u001b[1m4734/4734\u001b[0m \u001b[32m━━━━━━━━━━━━━━━━━━━━\u001b[0m\u001b[37m\u001b[0m \u001b[1m13s\u001b[0m 3ms/step - accuracy: 0.9344 - loss: 1.0502 - val_accuracy: 0.9278 - val_loss: 1.1644\n",
            "Epoch 9/10\n",
            "\u001b[1m4734/4734\u001b[0m \u001b[32m━━━━━━━━━━━━━━━━━━━━\u001b[0m\u001b[37m\u001b[0m \u001b[1m20s\u001b[0m 3ms/step - accuracy: 0.9355 - loss: 1.0343 - val_accuracy: 0.9347 - val_loss: 1.0524\n",
            "Epoch 10/10\n",
            "\u001b[1m4734/4734\u001b[0m \u001b[32m━━━━━━━━━━━━━━━━━━━━\u001b[0m\u001b[37m\u001b[0m \u001b[1m13s\u001b[0m 3ms/step - accuracy: 0.9335 - loss: 1.0671 - val_accuracy: 0.9370 - val_loss: 1.0150\n"
          ]
        },
        {
          "output_type": "execute_result",
          "data": {
            "text/plain": [
              "<keras.src.callbacks.history.History at 0x7fd4b87ad750>"
            ]
          },
          "metadata": {},
          "execution_count": 104
        }
      ]
    },
    {
      "cell_type": "code",
      "source": [
        "y_pred_probs = model.predict(X_test_reshaped)\n",
        "y_pred = (y_pred_probs > 0.5).astype(\"int32\")\n",
        "\n",
        "# Reshape y_pred to match y_test_smote\n",
        "y_pred = y_pred.reshape(y_test_smote.shape) # Reshape to match y_test_smote\n",
        "\n",
        "# Check and potentially fix data types\n",
        "y_test_smote = y_test_smote.astype(int)  # Ensure y_test_smote is of type int\n",
        "y_pred = y_pred.astype(int)  # Ensure y_pred is of type int\n",
        "\n",
        "accuracy = accuracy_score(y_test_smote, y_pred)\n",
        "print(\"Accuracy:\", accuracy)\n",
        "print(classification_report(y_test_smote, y_pred))"
      ],
      "metadata": {
        "id": "RHd6uBxVul1J",
        "outputId": "c89efe3a-70f0-4d06-ee72-2da56db34a2a",
        "colab": {
          "base_uri": "https://localhost:8080/"
        }
      },
      "execution_count": null,
      "outputs": [
        {
          "output_type": "stream",
          "name": "stdout",
          "text": [
            "\u001b[1m1316/1316\u001b[0m \u001b[32m━━━━━━━━━━━━━━━━━━━━\u001b[0m\u001b[37m\u001b[0m \u001b[1m2s\u001b[0m 1ms/step\n",
            "Accuracy: 0.952528036494963\n",
            "              precision    recall  f1-score   support\n",
            "\n",
            "           0       0.97      0.94      0.95     21044\n",
            "           1       0.94      0.97      0.95     21044\n",
            "\n",
            "    accuracy                           0.95     42088\n",
            "   macro avg       0.95      0.95      0.95     42088\n",
            "weighted avg       0.95      0.95      0.95     42088\n",
            "\n"
          ]
        }
      ]
    },
    {
      "cell_type": "code",
      "source": [
        "y_pred_probs = model.predict(X_train_smote_reshaped)\n",
        "y_pred = (y_pred_probs > 0.5).astype(\"int32\")\n",
        "\n",
        "# Reshape y_pred to match y_test_smote\n",
        "y_pred = y_pred.reshape(y_train_smote.shape) # Reshape to match y_test_smote\n",
        "\n",
        "# Check and potentially fix data types\n",
        "y_train_smote = y_train_smote.astype(int)  # Ensure y_test_smote is of type int\n",
        "y_pred = y_pred.astype(int)  # Ensure y_pred is of type int\n",
        "\n",
        "accuracy = accuracy_score(y_train_smote, y_pred)\n",
        "print(\"Accuracy:\", accuracy)\n",
        "print(classification_report(y_train_smote, y_pred))"
      ],
      "metadata": {
        "id": "UFHHzQb62482",
        "outputId": "1b6a6f16-8664-4067-bf82-67d1a5139424",
        "colab": {
          "base_uri": "https://localhost:8080/"
        }
      },
      "execution_count": null,
      "outputs": [
        {
          "output_type": "stream",
          "name": "stdout",
          "text": [
            "\u001b[1m5260/5260\u001b[0m \u001b[32m━━━━━━━━━━━━━━━━━━━━\u001b[0m\u001b[37m\u001b[0m \u001b[1m11s\u001b[0m 2ms/step\n",
            "Accuracy: 0.9358698622812125\n",
            "              precision    recall  f1-score   support\n",
            "\n",
            "           0       0.93      0.94      0.94     84157\n",
            "           1       0.94      0.93      0.94     84157\n",
            "\n",
            "    accuracy                           0.94    168314\n",
            "   macro avg       0.94      0.94      0.94    168314\n",
            "weighted avg       0.94      0.94      0.94    168314\n",
            "\n"
          ]
        }
      ]
    }
  ]
}